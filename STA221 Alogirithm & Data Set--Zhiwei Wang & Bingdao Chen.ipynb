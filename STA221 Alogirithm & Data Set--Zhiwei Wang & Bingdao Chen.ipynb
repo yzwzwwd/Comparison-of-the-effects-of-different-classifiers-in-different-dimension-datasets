{
 "cells": [
  {
   "cell_type": "markdown",
   "metadata": {},
   "source": [
    "# STA221 Final Project: Comparisons of Different Classification Methods"
   ]
  },
  {
   "cell_type": "code",
   "execution_count": 1,
   "metadata": {},
   "outputs": [],
   "source": [
    "from sklearn.linear_model import LogisticRegression\n",
    "from sklearn import metrics\n",
    "import numpy as np\n",
    "import pandas as pd\n",
    "import matplotlib.pyplot as plt\n",
    "from sklearn.preprocessing import StandardScaler\n",
    "from sklearn.model_selection import train_test_split\n",
    "from sklearn.metrics import confusion_matrix\n",
    "from sklearn.ensemble import RandomForestClassifier\n",
    "from sklearn.svm import SVC \n",
    "from sklearn.model_selection import GridSearchCV\n",
    "from sklearn.neighbors import KNeighborsClassifier\n",
    "from sklearn.tree import DecisionTreeClassifier\n",
    "from imblearn.over_sampling import SMOTE\n",
    "from scipy.io import arff\n",
    "import pyreadr\n",
    "from time import process_time "
   ]
  },
  {
   "cell_type": "markdown",
   "metadata": {},
   "source": [
    "## Eight Data Sets with Different Dimension Features and Preprocessing"
   ]
  },
  {
   "cell_type": "code",
   "execution_count": 7,
   "metadata": {},
   "outputs": [],
   "source": [
    "# standardization function\n",
    "def scaler(X_train, X_test):\n",
    "    Scaler = StandardScaler()\n",
    "    Scaler.fit(X_train)\n",
    "    X_tr = Scaler.transform(X_train)\n",
    "    X_te = Scaler.transform(X_test)\n",
    "    return X_tr, X_te"
   ]
  },
  {
   "cell_type": "markdown",
   "metadata": {},
   "source": [
    "__1.Skin Segmentation__"
   ]
  },
  {
   "cell_type": "code",
   "execution_count": 3,
   "metadata": {},
   "outputs": [],
   "source": [
    "skin = pd.read_csv('Skin_NonSkin.txt', header = None, delim_whitespace=True)\n",
    "skin = skin.dropna()\n",
    "skin.columns = \"B\", \"G\", \"R\", \"class\"\n",
    "skin['class'] = skin['class'].replace(2,-1)\n",
    "X1 = skin[skin.columns[range(3)]].values\n",
    "y1 = skin[\"class\"].values\n",
    "X1_train, X1_test, y1_train, y1_test = train_test_split(X1, y1, test_size=0.3, random_state=0)\n",
    "X1_train, X1_test = scaler(X1_train, X1_test)"
   ]
  },
  {
   "cell_type": "code",
   "execution_count": 4,
   "metadata": {},
   "outputs": [
    {
     "data": {
      "text/plain": [
       "array([[ 1.18470043,  1.07426412,  0.53470259],\n",
       "       [-0.72595762, -0.32641826,  0.81030778],\n",
       "       [ 1.36131588,  1.2743616 ,  1.23749584],\n",
       "       ...,\n",
       "       [ 1.05625283,  0.95754059,  0.31421843],\n",
       "       [-1.38425157, -1.07678382, -1.07758782],\n",
       "       [ 1.60215513,  1.29103639, -0.54015768]])"
      ]
     },
     "execution_count": 4,
     "metadata": {},
     "output_type": "execute_result"
    }
   ],
   "source": [
    "X1_test"
   ]
  },
  {
   "cell_type": "markdown",
   "metadata": {},
   "source": [
    "__2.Pulstar__"
   ]
  },
  {
   "cell_type": "code",
   "execution_count": 5,
   "metadata": {},
   "outputs": [],
   "source": [
    "pulstar = pd.read_csv('HTRU2/HTRU_2.csv', header = None)\n",
    "pulstar = pulstar.dropna()\n",
    "pulstar.columns = \"mean_profile\", \"sd_profile\", \"kurtosis\", \"skewness\", \"mean_DMSNR\", \"sd_DMSNR\", \"kurtosisDMSNR\", \"skewnessDMSNR\", \"class\"\n",
    "X2 = pulstar[pulstar.columns[range(8)]].values\n",
    "y2 = pulstar[\"class\"].values\n",
    "y2 = y2 * 2 -1 "
   ]
  },
  {
   "cell_type": "code",
   "execution_count": 6,
   "metadata": {},
   "outputs": [
    {
     "data": {
      "text/plain": [
       "-1    16259\n",
       " 1    16259\n",
       "dtype: int64"
      ]
     },
     "execution_count": 6,
     "metadata": {},
     "output_type": "execute_result"
    }
   ],
   "source": [
    "##Balance the data with SMOTE\n",
    "smote = SMOTE(random_state = 100)\n",
    "X2, y2 = smote.fit_sample(X2, y2)\n",
    "pd.Series(y2).value_counts()"
   ]
  },
  {
   "cell_type": "code",
   "execution_count": 7,
   "metadata": {},
   "outputs": [],
   "source": [
    "X2_train, X2_test, y2_train, y2_test = train_test_split(X2, y2, test_size=0.3, random_state=100)\n",
    "X2_train, X2_test = scaler(X2_train, X2_test)"
   ]
  },
  {
   "cell_type": "code",
   "execution_count": 8,
   "metadata": {},
   "outputs": [
    {
     "data": {
      "text/plain": [
       "array([[-1.55023375, -1.33382251,  1.65454085, ...,  0.94199837,\n",
       "        -0.90507225, -0.67301051],\n",
       "       [ 1.08816873,  0.26742087, -0.76576687, ..., -0.92422026,\n",
       "         0.51855503,  0.19007404],\n",
       "       [ 1.2032318 ,  0.02556128, -0.77890961, ..., -0.8594964 ,\n",
       "         0.75504137,  0.30858986],\n",
       "       ...,\n",
       "       [-1.15111847, -1.06326387,  1.13574793, ...,  0.90027756,\n",
       "        -0.82986981, -0.65919392],\n",
       "       [ 0.61579896,  0.76154159, -0.66997891, ..., -1.12660318,\n",
       "         1.48470116,  1.56306863],\n",
       "       [ 0.28252465,  0.15418121, -0.50264056, ..., -0.90681788,\n",
       "         0.48520797,  0.13430422]])"
      ]
     },
     "execution_count": 8,
     "metadata": {},
     "output_type": "execute_result"
    }
   ],
   "source": [
    "X2_test"
   ]
  },
  {
   "cell_type": "markdown",
   "metadata": {},
   "source": [
    "__3.Tumor__"
   ]
  },
  {
   "cell_type": "code",
   "execution_count": 9,
   "metadata": {},
   "outputs": [],
   "source": [
    "a3 = pd.read_csv('TCGA-PANCAN-HiSeq-801x20531/data.csv')\n",
    "b3 = pd.read_csv('TCGA-PANCAN-HiSeq-801x20531/labels.csv')"
   ]
  },
  {
   "cell_type": "code",
   "execution_count": 10,
   "metadata": {},
   "outputs": [],
   "source": [
    "combine = pd.concat([a3, b3], axis=1)\n",
    "tumor = combine.drop(combine.columns[0], axis=1)"
   ]
  },
  {
   "cell_type": "code",
   "execution_count": 11,
   "metadata": {
    "scrolled": true
   },
   "outputs": [
    {
     "data": {
      "text/plain": [
       "BRCA    300\n",
       "KIRC    146\n",
       "LUAD    141\n",
       "PRAD    136\n",
       "COAD     78\n",
       "Name: Class, dtype: int64"
      ]
     },
     "execution_count": 11,
     "metadata": {},
     "output_type": "execute_result"
    }
   ],
   "source": [
    "pd.Series(tumor[\"Class\"]).value_counts()"
   ]
  },
  {
   "cell_type": "code",
   "execution_count": 12,
   "metadata": {},
   "outputs": [],
   "source": [
    "tumor2 = tumor[(tumor[\"Class\"] == \"KIRC\") | (tumor[\"Class\"] == \"LUAD\")]\n",
    "tumor2 = tumor2.dropna()\n",
    "X3 = tumor2[tumor2.columns[range(20531)]].values\n",
    "y3 = np.array([1 if item == 'LUAD' else -1 for item in tumor2[\"Class\"].values])"
   ]
  },
  {
   "cell_type": "code",
   "execution_count": 13,
   "metadata": {},
   "outputs": [],
   "source": [
    "X3_train, X3_test, y3_train, y3_test = train_test_split(X3, y3, test_size=0.3, random_state=100)\n",
    "X3_train, X3_test = scaler(X3_train, X3_test)"
   ]
  },
  {
   "cell_type": "markdown",
   "metadata": {},
   "source": [
    "__4.Arcene__"
   ]
  },
  {
   "cell_type": "code",
   "execution_count": 14,
   "metadata": {},
   "outputs": [],
   "source": [
    "X4_train = pd.read_csv('arcene/arcene_train.data', sep = ' ', header = None).drop([10000],axis=1).values\n",
    "y4_train = pd.read_csv('arcene/arcene_train.labels', sep = ' ', header = None)[0].values\n",
    "X4_test = pd.read_csv('arcene/arcene_valid.data', sep = ' ', header = None).drop([10000],axis=1).values\n",
    "y4_test = pd.read_csv('arcene/arcene_valid.labels', sep = ' ', header = None)[0].values\n",
    "X4_train, X4_test = scaler(X4_train, X4_test)"
   ]
  },
  {
   "cell_type": "markdown",
   "metadata": {},
   "source": [
    "__5.Forest__"
   ]
  },
  {
   "cell_type": "code",
   "execution_count": 8,
   "metadata": {},
   "outputs": [],
   "source": [
    "forest_train = pd.read_csv('ForestTypes/forest.train.csv')\n",
    "forest_test = pd.read_csv('ForestTypes/forest.test.csv')"
   ]
  },
  {
   "cell_type": "code",
   "execution_count": 9,
   "metadata": {},
   "outputs": [],
   "source": [
    "forest_train = forest_train[(forest_train[\"class\"] == \"s \")|(forest_train[\"class\"] == \"d \")]\n",
    "forest_test = forest_test[(forest_test[\"class\"] == \"s \")|(forest_test[\"class\"] == \"d \")]"
   ]
  },
  {
   "cell_type": "code",
   "execution_count": 10,
   "metadata": {},
   "outputs": [],
   "source": [
    "X5_train = forest_train.drop(\"class\", axis =1).values\n",
    "y5_train = forest_train[\"class\"].values\n",
    "X5_test = forest_test.drop(\"class\", axis =1).values\n",
    "y5_test = forest_test[\"class\"].values"
   ]
  },
  {
   "cell_type": "code",
   "execution_count": 11,
   "metadata": {},
   "outputs": [],
   "source": [
    "X5_train, X5_test = scaler(X5_train, X5_test)"
   ]
  },
  {
   "cell_type": "code",
   "execution_count": 12,
   "metadata": {},
   "outputs": [],
   "source": [
    "y5_train[y5_train == \"s \"] = -1\n",
    "y5_train[y5_train == \"d \"] = 1\n",
    "y5_test[y5_test == \"s \"] = -1\n",
    "y5_test[y5_test == \"d \"] = 1"
   ]
  },
  {
   "cell_type": "code",
   "execution_count": 13,
   "metadata": {},
   "outputs": [],
   "source": [
    "y5_train = pd.to_numeric(y5_train)\n",
    "y5_test = pd.to_numeric(y5_test)"
   ]
  },
  {
   "cell_type": "markdown",
   "metadata": {},
   "source": [
    "__6.Audit Risk__"
   ]
  },
  {
   "cell_type": "code",
   "execution_count": 40,
   "metadata": {},
   "outputs": [
    {
     "data": {
      "text/html": [
       "<div>\n",
       "<style scoped>\n",
       "    .dataframe tbody tr th:only-of-type {\n",
       "        vertical-align: middle;\n",
       "    }\n",
       "\n",
       "    .dataframe tbody tr th {\n",
       "        vertical-align: top;\n",
       "    }\n",
       "\n",
       "    .dataframe thead th {\n",
       "        text-align: right;\n",
       "    }\n",
       "</style>\n",
       "<table border=\"1\" class=\"dataframe\">\n",
       "  <thead>\n",
       "    <tr style=\"text-align: right;\">\n",
       "      <th></th>\n",
       "      <th>Sector_score</th>\n",
       "      <th>LOCATION_ID</th>\n",
       "      <th>PARA_A</th>\n",
       "      <th>Score_A</th>\n",
       "      <th>Risk_A</th>\n",
       "      <th>PARA_B</th>\n",
       "      <th>Score_B</th>\n",
       "      <th>Risk_B</th>\n",
       "      <th>TOTAL</th>\n",
       "      <th>numbers</th>\n",
       "      <th>...</th>\n",
       "      <th>RiSk_E</th>\n",
       "      <th>History</th>\n",
       "      <th>Prob</th>\n",
       "      <th>Risk_F</th>\n",
       "      <th>Score</th>\n",
       "      <th>Inherent_Risk</th>\n",
       "      <th>CONTROL_RISK</th>\n",
       "      <th>Detection_Risk</th>\n",
       "      <th>Audit_Risk</th>\n",
       "      <th>Risk</th>\n",
       "    </tr>\n",
       "  </thead>\n",
       "  <tbody>\n",
       "    <tr>\n",
       "      <th>0</th>\n",
       "      <td>3.89</td>\n",
       "      <td>23</td>\n",
       "      <td>4.18</td>\n",
       "      <td>0.6</td>\n",
       "      <td>2.508</td>\n",
       "      <td>2.50</td>\n",
       "      <td>0.2</td>\n",
       "      <td>0.500</td>\n",
       "      <td>6.68</td>\n",
       "      <td>5.0</td>\n",
       "      <td>...</td>\n",
       "      <td>0.4</td>\n",
       "      <td>0</td>\n",
       "      <td>0.2</td>\n",
       "      <td>0.0</td>\n",
       "      <td>2.4</td>\n",
       "      <td>8.574</td>\n",
       "      <td>0.4</td>\n",
       "      <td>0.5</td>\n",
       "      <td>1.7148</td>\n",
       "      <td>1</td>\n",
       "    </tr>\n",
       "    <tr>\n",
       "      <th>1</th>\n",
       "      <td>3.89</td>\n",
       "      <td>6</td>\n",
       "      <td>0.00</td>\n",
       "      <td>0.2</td>\n",
       "      <td>0.000</td>\n",
       "      <td>4.83</td>\n",
       "      <td>0.2</td>\n",
       "      <td>0.966</td>\n",
       "      <td>4.83</td>\n",
       "      <td>5.0</td>\n",
       "      <td>...</td>\n",
       "      <td>0.4</td>\n",
       "      <td>0</td>\n",
       "      <td>0.2</td>\n",
       "      <td>0.0</td>\n",
       "      <td>2.0</td>\n",
       "      <td>2.554</td>\n",
       "      <td>0.4</td>\n",
       "      <td>0.5</td>\n",
       "      <td>0.5108</td>\n",
       "      <td>0</td>\n",
       "    </tr>\n",
       "    <tr>\n",
       "      <th>2</th>\n",
       "      <td>3.89</td>\n",
       "      <td>6</td>\n",
       "      <td>0.51</td>\n",
       "      <td>0.2</td>\n",
       "      <td>0.102</td>\n",
       "      <td>0.23</td>\n",
       "      <td>0.2</td>\n",
       "      <td>0.046</td>\n",
       "      <td>0.74</td>\n",
       "      <td>5.0</td>\n",
       "      <td>...</td>\n",
       "      <td>0.4</td>\n",
       "      <td>0</td>\n",
       "      <td>0.2</td>\n",
       "      <td>0.0</td>\n",
       "      <td>2.0</td>\n",
       "      <td>1.548</td>\n",
       "      <td>0.4</td>\n",
       "      <td>0.5</td>\n",
       "      <td>0.3096</td>\n",
       "      <td>0</td>\n",
       "    </tr>\n",
       "    <tr>\n",
       "      <th>3</th>\n",
       "      <td>3.89</td>\n",
       "      <td>6</td>\n",
       "      <td>0.00</td>\n",
       "      <td>0.2</td>\n",
       "      <td>0.000</td>\n",
       "      <td>10.80</td>\n",
       "      <td>0.6</td>\n",
       "      <td>6.480</td>\n",
       "      <td>10.80</td>\n",
       "      <td>6.0</td>\n",
       "      <td>...</td>\n",
       "      <td>0.4</td>\n",
       "      <td>0</td>\n",
       "      <td>0.2</td>\n",
       "      <td>0.0</td>\n",
       "      <td>4.4</td>\n",
       "      <td>17.530</td>\n",
       "      <td>0.4</td>\n",
       "      <td>0.5</td>\n",
       "      <td>3.5060</td>\n",
       "      <td>1</td>\n",
       "    </tr>\n",
       "    <tr>\n",
       "      <th>4</th>\n",
       "      <td>3.89</td>\n",
       "      <td>6</td>\n",
       "      <td>0.00</td>\n",
       "      <td>0.2</td>\n",
       "      <td>0.000</td>\n",
       "      <td>0.08</td>\n",
       "      <td>0.2</td>\n",
       "      <td>0.016</td>\n",
       "      <td>0.08</td>\n",
       "      <td>5.0</td>\n",
       "      <td>...</td>\n",
       "      <td>0.4</td>\n",
       "      <td>0</td>\n",
       "      <td>0.2</td>\n",
       "      <td>0.0</td>\n",
       "      <td>2.0</td>\n",
       "      <td>1.416</td>\n",
       "      <td>0.4</td>\n",
       "      <td>0.5</td>\n",
       "      <td>0.2832</td>\n",
       "      <td>0</td>\n",
       "    </tr>\n",
       "  </tbody>\n",
       "</table>\n",
       "<p>5 rows × 27 columns</p>\n",
       "</div>"
      ],
      "text/plain": [
       "   Sector_score LOCATION_ID  PARA_A  Score_A  Risk_A  PARA_B  Score_B  Risk_B  \\\n",
       "0          3.89          23    4.18      0.6   2.508    2.50      0.2   0.500   \n",
       "1          3.89           6    0.00      0.2   0.000    4.83      0.2   0.966   \n",
       "2          3.89           6    0.51      0.2   0.102    0.23      0.2   0.046   \n",
       "3          3.89           6    0.00      0.2   0.000   10.80      0.6   6.480   \n",
       "4          3.89           6    0.00      0.2   0.000    0.08      0.2   0.016   \n",
       "\n",
       "   TOTAL  numbers  ...  RiSk_E  History  Prob  Risk_F  Score  Inherent_Risk  \\\n",
       "0   6.68      5.0  ...     0.4        0   0.2     0.0    2.4          8.574   \n",
       "1   4.83      5.0  ...     0.4        0   0.2     0.0    2.0          2.554   \n",
       "2   0.74      5.0  ...     0.4        0   0.2     0.0    2.0          1.548   \n",
       "3  10.80      6.0  ...     0.4        0   0.2     0.0    4.4         17.530   \n",
       "4   0.08      5.0  ...     0.4        0   0.2     0.0    2.0          1.416   \n",
       "\n",
       "   CONTROL_RISK  Detection_Risk  Audit_Risk  Risk  \n",
       "0           0.4             0.5      1.7148     1  \n",
       "1           0.4             0.5      0.5108     0  \n",
       "2           0.4             0.5      0.3096     0  \n",
       "3           0.4             0.5      3.5060     1  \n",
       "4           0.4             0.5      0.2832     0  \n",
       "\n",
       "[5 rows x 27 columns]"
      ]
     },
     "execution_count": 40,
     "metadata": {},
     "output_type": "execute_result"
    }
   ],
   "source": [
    "audit = pd.read_csv('audit_data/audit_risk.csv')\n",
    "audit = audit.dropna()\n",
    "audit.head(5)"
   ]
  },
  {
   "cell_type": "code",
   "execution_count": 43,
   "metadata": {},
   "outputs": [],
   "source": [
    "X6 = audit.drop(audit.columns[26], axis = 1).values\n",
    "X6 = audit.drop(\"LOCATION_ID\", axis = 1).values\n",
    "y6 = audit[\"Risk\"].values * 2 -1\n",
    "X6, y6 = SMOTE().fit_sample(X6, y6)\n",
    "X6_train, X6_test, y6_train, y6_test = train_test_split(X6, y6, test_size=0.3, random_state=100)\n",
    "X6_train, X6_test = scaler(X6_train, X6_test)"
   ]
  },
  {
   "cell_type": "markdown",
   "metadata": {},
   "source": [
    "__7.Gisette__"
   ]
  },
  {
   "cell_type": "code",
   "execution_count": 24,
   "metadata": {},
   "outputs": [],
   "source": [
    "X7_train = np.genfromtxt(\"gisette/gisette_train.data\")\n",
    "X7_test = np.genfromtxt(\"gisette/gisette_valid.data\")\n",
    "X7_train, X7_test = scaler(X7_train, X7_test)"
   ]
  },
  {
   "cell_type": "code",
   "execution_count": 25,
   "metadata": {},
   "outputs": [
    {
     "data": {
      "text/plain": [
       "((6000, 5000), (1000, 5000))"
      ]
     },
     "execution_count": 25,
     "metadata": {},
     "output_type": "execute_result"
    }
   ],
   "source": [
    "np.shape(X7_train),np.shape(X7_test)"
   ]
  },
  {
   "cell_type": "code",
   "execution_count": 26,
   "metadata": {},
   "outputs": [],
   "source": [
    "y7_train = np.genfromtxt('gisette/gisette_train.labels')\n",
    "y7_test = np.genfromtxt('gisette/gisette_valid.labels')"
   ]
  },
  {
   "cell_type": "code",
   "execution_count": 27,
   "metadata": {},
   "outputs": [
    {
     "name": "stdout",
     "output_type": "stream",
     "text": [
      "0\n"
     ]
    }
   ],
   "source": [
    "y7_train.astype(int)\n",
    "y7_test.astype(int)"
   ]
  },
  {
   "cell_type": "markdown",
   "metadata": {},
   "source": [
    "__8.Protein Images__"
   ]
  },
  {
   "cell_type": "code",
   "execution_count": 28,
   "metadata": {},
   "outputs": [],
   "source": [
    "protein = pd.read_csv(\"p53_old_2010/K8.data\", header = None, na_values = \"?\")"
   ]
  },
  {
   "cell_type": "code",
   "execution_count": 29,
   "metadata": {},
   "outputs": [],
   "source": [
    "protein2 = protein[protein.columns[:-1]]"
   ]
  },
  {
   "cell_type": "code",
   "execution_count": 30,
   "metadata": {},
   "outputs": [],
   "source": [
    "protein3 = protein2.dropna(axis=0)"
   ]
  },
  {
   "cell_type": "code",
   "execution_count": 31,
   "metadata": {},
   "outputs": [],
   "source": [
    "X8 = protein3[protein3.columns[range(5408)]].values\n",
    "y8 = protein3[protein3.columns[5408]].values\n",
    "X8, y8 = SMOTE().fit_sample(X8, y8)\n",
    "y8 = np.array([1 if item == 'active' else -1 for item in y8])"
   ]
  },
  {
   "cell_type": "code",
   "execution_count": 32,
   "metadata": {},
   "outputs": [],
   "source": [
    "X8_train, X8_test, y8_train, y8_test = train_test_split(X8, y8, test_size=0.3, random_state=100)\n",
    "X8_train, X8_test = scaler(X8_train, X8_test)"
   ]
  },
  {
   "cell_type": "markdown",
   "metadata": {},
   "source": [
    "## Comparisons according to the Performance"
   ]
  },
  {
   "cell_type": "markdown",
   "metadata": {},
   "source": [
    "__some useful functions__"
   ]
  },
  {
   "cell_type": "code",
   "execution_count": 14,
   "metadata": {},
   "outputs": [],
   "source": [
    "# for accuracy and confusion matrix \n",
    "def accuracy_confusion_tr(y_train, y_tr_pred):\n",
    "    accuracy = metrics.accuracy_score(y_train, y_tr_pred)\n",
    "    confusion_matrix_result = confusion_matrix(y_train, y_tr_pred)\n",
    "    return accuracy, confusion_matrix_result\n",
    "\n",
    "def accuracy_confusion_te(y_test, y_te_pred):\n",
    "    accuracy = metrics.accuracy_score(y_test, y_te_pred)\n",
    "    confusion_matrix_result = confusion_matrix(y_test, y_te_pred)\n",
    "    return accuracy, confusion_matrix_result"
   ]
  },
  {
   "cell_type": "code",
   "execution_count": 15,
   "metadata": {},
   "outputs": [],
   "source": [
    "# for FPR, TPR, Precision，Recall\n",
    "def fpr_tpr(model, X_test, y_test):\n",
    "    y_scores = model.predict_proba(X_test)\n",
    "    fpr = metrics.roc_curve(y_test, y_scores[:, 1])[0]\n",
    "    tpr = metrics.roc_curve(y_test, y_scores[:, 1])[1]\n",
    "    return fpr, tpr\n",
    "\n",
    "def precision_recall(model, X_test, y_test):\n",
    "    y_scores = model.predict_proba(X_test)\n",
    "    precision = metrics.precision_recall_curve(y_test, y_scores[:, 1])[0]\n",
    "    recall = metrics.precision_recall_curve(y_test, y_scores[:, 1])[1]\n",
    "    return recall, precision\n",
    " "
   ]
  },
  {
   "cell_type": "code",
   "execution_count": 16,
   "metadata": {},
   "outputs": [],
   "source": [
    "# roc and pr curve\n",
    "def roc_curve(logistic, knn, dt, rf, svm, X_test, y_test):\n",
    "    plt.plot(fpr_tpr(logistic, X_test, y_test)[0], fpr_tpr(logistic, X_test, y_test)[1], label='logistic regression')\n",
    "    plt.plot(fpr_tpr(knn, X_test, y_test)[0], fpr_tpr(knn, X_test, y_test)[1], label='knn')\n",
    "    plt.plot(fpr_tpr(dt, X_test, y_test)[0], fpr_tpr(dt, X_test, y_test)[1], label='decision tree')\n",
    "    plt.plot(fpr_tpr(rf, X_test, y_test)[0], fpr_tpr(rf, X_test, y_test)[1], label='random forest')\n",
    "    plt.plot(fpr_tpr(svm, X_test, y_test)[0], fpr_tpr(svm, X_test, y_test)[1], label='support vector machine')\n",
    "    plt.xlabel('FPR')\n",
    "    plt.ylabel('TPR')\n",
    "    plt.legend()\n",
    "\n",
    "def pr_curve(logistic, knn, dt, rf, svm, X_test, y_test):\n",
    "    plt.plot(precision_recall(logistic, X_test, y_test)[0], precision_recall(logistic, X_test, y_test)[1], label='logistic regression')\n",
    "    plt.plot(precision_recall(knn, X_test, y_test)[0], precision_recall(knn, X_test, y_test)[1], label='knn')\n",
    "    plt.plot(precision_recall(dt, X_test, y_test)[0], precision_recall(dt, X_test, y_test)[1], label='decision tree')\n",
    "    plt.plot(precision_recall(rf, X_test, y_test)[0], precision_recall(rf, X_test, y_test)[1], label='random forest')\n",
    "    plt.plot(precision_recall(svm, X_test, y_test)[0], precision_recall(svm, X_test, y_test)[1], label='support vector machine')\n",
    "    plt.xlabel('recall')\n",
    "    plt.ylabel('precision')\n",
    "    plt.legend()"
   ]
  },
  {
   "cell_type": "markdown",
   "metadata": {},
   "source": [
    "__n small d small: forest mapping__"
   ]
  },
  {
   "cell_type": "markdown",
   "metadata": {},
   "source": [
    "__logistic regression__"
   ]
  },
  {
   "cell_type": "code",
   "execution_count": 17,
   "metadata": {},
   "outputs": [],
   "source": [
    "start_time = process_time()\n",
    "logistic_forest = LogisticRegression()\n",
    "logistic_forest.fit(X5_train, y5_train)\n",
    "end_time = process_time()\n",
    "\n",
    "logistic_forest_tr_pred = logistic_forest.predict(X5_train)\n",
    "logistic_forest_te_pred = logistic_forest.predict(X5_test)"
   ]
  },
  {
   "cell_type": "code",
   "execution_count": 18,
   "metadata": {},
   "outputs": [
    {
     "data": {
      "text/plain": [
       "0.0"
      ]
     },
     "execution_count": 18,
     "metadata": {},
     "output_type": "execute_result"
    }
   ],
   "source": [
    "timecost_5_logistic = end_time-start_time\n",
    "timecost_5_logistic"
   ]
  },
  {
   "cell_type": "code",
   "execution_count": 19,
   "metadata": {},
   "outputs": [
    {
     "data": {
      "text/plain": [
       "(1.0,\n",
       " array([[59,  0],\n",
       "        [ 0, 54]], dtype=int64))"
      ]
     },
     "execution_count": 19,
     "metadata": {},
     "output_type": "execute_result"
    }
   ],
   "source": [
    "accuracy_confusion_tr(y5_train, logistic_forest_tr_pred)"
   ]
  },
  {
   "cell_type": "code",
   "execution_count": 20,
   "metadata": {},
   "outputs": [
    {
     "data": {
      "text/plain": [
       "(0.9377593360995851,\n",
       " array([[134,   2],\n",
       "        [ 13,  92]], dtype=int64))"
      ]
     },
     "execution_count": 20,
     "metadata": {},
     "output_type": "execute_result"
    }
   ],
   "source": [
    "accuracy_confusion_te(y5_test, logistic_forest_te_pred)"
   ]
  },
  {
   "cell_type": "markdown",
   "metadata": {},
   "source": [
    "__KNN__"
   ]
  },
  {
   "cell_type": "code",
   "execution_count": 65,
   "metadata": {},
   "outputs": [
    {
     "data": {
      "text/plain": [
       "{'n_neighbors': 1}"
      ]
     },
     "execution_count": 65,
     "metadata": {},
     "output_type": "execute_result"
    }
   ],
   "source": [
    "# tune the parameters\n",
    "knn = KNeighborsClassifier()\n",
    "knn_param_grid = {\n",
    "    'n_neighbors' : list(range(1,20,1)),\n",
    "}\n",
    "\n",
    "knn_grid_search = GridSearchCV(knn, knn_param_grid, cv = 5)\n",
    "knn_grid_search.fit(X5_train, y5_train)\n",
    "knn_grid_search.best_params_"
   ]
  },
  {
   "cell_type": "code",
   "execution_count": 21,
   "metadata": {},
   "outputs": [],
   "source": [
    "start_time = process_time()\n",
    "knn_forest = KNeighborsClassifier(n_neighbors=1)\n",
    "knn_forest.fit(X5_train, y5_train)\n",
    "end_time = process_time()\n",
    "\n",
    "knn_forest_tr_pred = knn_forest.predict(X5_train)\n",
    "knn_forest_te_pred = knn_forest.predict(X5_test)"
   ]
  },
  {
   "cell_type": "code",
   "execution_count": 22,
   "metadata": {},
   "outputs": [
    {
     "data": {
      "text/plain": [
       "0.0"
      ]
     },
     "execution_count": 22,
     "metadata": {},
     "output_type": "execute_result"
    }
   ],
   "source": [
    "timecost_5_knn = end_time-start_time\n",
    "timecost_5_knn"
   ]
  },
  {
   "cell_type": "code",
   "execution_count": 23,
   "metadata": {},
   "outputs": [
    {
     "data": {
      "text/plain": [
       "(1.0,\n",
       " array([[59,  0],\n",
       "        [ 0, 54]], dtype=int64))"
      ]
     },
     "execution_count": 23,
     "metadata": {},
     "output_type": "execute_result"
    }
   ],
   "source": [
    "accuracy_confusion_tr(y5_train, knn_forest_tr_pred)"
   ]
  },
  {
   "cell_type": "code",
   "execution_count": 24,
   "metadata": {},
   "outputs": [
    {
     "data": {
      "text/plain": [
       "(0.9253112033195021,\n",
       " array([[122,  14],\n",
       "        [  4, 101]], dtype=int64))"
      ]
     },
     "execution_count": 24,
     "metadata": {},
     "output_type": "execute_result"
    }
   ],
   "source": [
    "accuracy_confusion_te(y5_test, knn_forest_te_pred)"
   ]
  },
  {
   "cell_type": "markdown",
   "metadata": {},
   "source": [
    "__decision tree__"
   ]
  },
  {
   "cell_type": "code",
   "execution_count": 25,
   "metadata": {},
   "outputs": [],
   "source": [
    "start_time = process_time()\n",
    "dt_forest = DecisionTreeClassifier()\n",
    "dt_forest.fit(X5_train, y5_train)\n",
    "end_time = process_time()\n",
    "\n",
    "dt_forest_tr_pred = dt_forest.predict(X5_train)\n",
    "dt_forest_te_pred = dt_forest.predict(X5_test)"
   ]
  },
  {
   "cell_type": "code",
   "execution_count": 26,
   "metadata": {},
   "outputs": [
    {
     "data": {
      "text/plain": [
       "0.0"
      ]
     },
     "execution_count": 26,
     "metadata": {},
     "output_type": "execute_result"
    }
   ],
   "source": [
    "timecost_5_dt = end_time-start_time\n",
    "timecost_5_dt"
   ]
  },
  {
   "cell_type": "code",
   "execution_count": 27,
   "metadata": {},
   "outputs": [
    {
     "data": {
      "text/plain": [
       "(1.0,\n",
       " array([[59,  0],\n",
       "        [ 0, 54]], dtype=int64))"
      ]
     },
     "execution_count": 27,
     "metadata": {},
     "output_type": "execute_result"
    }
   ],
   "source": [
    "accuracy_confusion_tr(y5_train, dt_forest_tr_pred)"
   ]
  },
  {
   "cell_type": "code",
   "execution_count": 28,
   "metadata": {},
   "outputs": [
    {
     "data": {
      "text/plain": [
       "(0.8713692946058091,\n",
       " array([[124,  12],\n",
       "        [ 19,  86]], dtype=int64))"
      ]
     },
     "execution_count": 28,
     "metadata": {},
     "output_type": "execute_result"
    }
   ],
   "source": [
    "accuracy_confusion_te(y5_test, dt_forest_te_pred)"
   ]
  },
  {
   "cell_type": "markdown",
   "metadata": {},
   "source": [
    "__random forest__"
   ]
  },
  {
   "cell_type": "code",
   "execution_count": 29,
   "metadata": {},
   "outputs": [],
   "source": [
    "start_time = process_time()\n",
    "rf_forest = RandomForestClassifier(n_estimators = 500)\n",
    "rf_forest.fit(X5_train, y5_train)\n",
    "end_time = process_time()\n",
    "\n",
    "rf_forest_tr_pred = rf_forest.predict(X5_train)\n",
    "rf_forest_te_pred = rf_forest.predict(X5_test)"
   ]
  },
  {
   "cell_type": "code",
   "execution_count": 31,
   "metadata": {},
   "outputs": [
    {
     "data": {
      "text/plain": [
       "1.015625"
      ]
     },
     "execution_count": 31,
     "metadata": {},
     "output_type": "execute_result"
    }
   ],
   "source": [
    "timecost_5_rf = end_time-start_time\n",
    "timecost_5_rf"
   ]
  },
  {
   "cell_type": "code",
   "execution_count": 32,
   "metadata": {},
   "outputs": [
    {
     "data": {
      "text/plain": [
       "(1.0,\n",
       " array([[59,  0],\n",
       "        [ 0, 54]], dtype=int64))"
      ]
     },
     "execution_count": 32,
     "metadata": {},
     "output_type": "execute_result"
    }
   ],
   "source": [
    "accuracy_confusion_tr(y5_train, rf_forest_tr_pred)"
   ]
  },
  {
   "cell_type": "code",
   "execution_count": 33,
   "metadata": {},
   "outputs": [
    {
     "data": {
      "text/plain": [
       "(0.91701244813278,\n",
       " array([[131,   5],\n",
       "        [ 15,  90]], dtype=int64))"
      ]
     },
     "execution_count": 33,
     "metadata": {},
     "output_type": "execute_result"
    }
   ],
   "source": [
    "accuracy_confusion_te(y5_test, rf_forest_te_pred)"
   ]
  },
  {
   "cell_type": "markdown",
   "metadata": {},
   "source": [
    "__svm__"
   ]
  },
  {
   "cell_type": "code",
   "execution_count": 75,
   "metadata": {},
   "outputs": [
    {
     "data": {
      "text/plain": [
       "{'C': 0.01, 'gamma': 'scale', 'kernel': 'linear'}"
      ]
     },
     "execution_count": 75,
     "metadata": {},
     "output_type": "execute_result"
    }
   ],
   "source": [
    "# tune the parameters\n",
    "svm = SVC()\n",
    "svm_param_grid = {\n",
    "    'C' : [1e-06, 1e-04, 1e-02,0.1, 1],\n",
    "    'kernel': ['linear','sigmoid', 'rbf', 'poly'],\n",
    "    'gamma': ['scale', 'auto']\n",
    "}\n",
    "\n",
    "svm_grid_search = GridSearchCV(svm, svm_param_grid, cv = 5)\n",
    "svm_grid_search.fit(X5_train, y5_train)\n",
    "svm_grid_search.best_params_"
   ]
  },
  {
   "cell_type": "code",
   "execution_count": 34,
   "metadata": {},
   "outputs": [],
   "source": [
    "start_time = process_time()\n",
    "svm_forest = SVC(C = 0.01, gamma = 'scale', kernel = 'linear', probability = True)\n",
    "svm_forest.fit(X5_train, y5_train)\n",
    "end_time = process_time()\n",
    "\n",
    "svm_forest_tr_pred = svm_forest.predict(X5_train)\n",
    "svm_forest_te_pred = svm_forest.predict(X5_test)"
   ]
  },
  {
   "cell_type": "code",
   "execution_count": 35,
   "metadata": {},
   "outputs": [
    {
     "data": {
      "text/plain": [
       "0.015625"
      ]
     },
     "execution_count": 35,
     "metadata": {},
     "output_type": "execute_result"
    }
   ],
   "source": [
    "timecost_5_svm = end_time-start_time\n",
    "timecost_5_svm"
   ]
  },
  {
   "cell_type": "code",
   "execution_count": 36,
   "metadata": {},
   "outputs": [
    {
     "data": {
      "text/plain": [
       "(1.0,\n",
       " array([[59,  0],\n",
       "        [ 0, 54]], dtype=int64))"
      ]
     },
     "execution_count": 36,
     "metadata": {},
     "output_type": "execute_result"
    }
   ],
   "source": [
    "accuracy_confusion_tr(y5_train, svm_forest_tr_pred)"
   ]
  },
  {
   "cell_type": "code",
   "execution_count": 37,
   "metadata": {},
   "outputs": [
    {
     "data": {
      "text/plain": [
       "(0.9253112033195021,\n",
       " array([[134,   2],\n",
       "        [ 16,  89]], dtype=int64))"
      ]
     },
     "execution_count": 37,
     "metadata": {},
     "output_type": "execute_result"
    }
   ],
   "source": [
    "accuracy_confusion_tr(y5_test, svm_forest_te_pred)"
   ]
  },
  {
   "cell_type": "code",
   "execution_count": 38,
   "metadata": {},
   "outputs": [
    {
     "data": {
      "text/plain": [
       "Text(0.5, 1.0, 'ROC curve over different algorithms in the forest dataset')"
      ]
     },
     "execution_count": 38,
     "metadata": {},
     "output_type": "execute_result"
    },
    {
     "data": {
      "image/png": "[encoded data removed]",
      "text/plain": [
       "<Figure size 432x288 with 1 Axes>"
      ]
     },
     "metadata": {
      "needs_background": "light"
     },
     "output_type": "display_data"
    }
   ],
   "source": [
    "roc_curve(logistic_forest, knn_forest, dt_forest, rf_forest, svm_forest, X5_test, y5_test)\n",
    "plt.title(\"ROC curve over different algorithms in the forest dataset\")"
   ]
  },
  {
   "cell_type": "code",
   "execution_count": 39,
   "metadata": {},
   "outputs": [
    {
     "data": {
      "text/plain": [
       "Text(0.5, 1.0, 'PR curve over different algorithms in the forest dataset')"
      ]
     },
     "execution_count": 39,
     "metadata": {},
     "output_type": "execute_result"
    },
    {
     "data": {
      "image/png": "[encoded data removed]",
      "text/plain": [
       "<Figure size 432x288 with 1 Axes>"
      ]
     },
     "metadata": {
      "needs_background": "light"
     },
     "output_type": "display_data"
    }
   ],
   "source": [
    "pr_curve(logistic_forest, knn_forest, dt_forest, rf_forest, svm_forest, X5_test, y5_test)\n",
    "plt.title(\"PR curve over different algorithms in the forest dataset\")"
   ]
  },
  {
   "cell_type": "markdown",
   "metadata": {},
   "source": [
    "__n small d small: Audit Risk__"
   ]
  },
  {
   "cell_type": "markdown",
   "metadata": {},
   "source": [
    "__logistic regression__"
   ]
  },
  {
   "cell_type": "code",
   "execution_count": 44,
   "metadata": {},
   "outputs": [],
   "source": [
    "start_time = process_time()\n",
    "logistic_audit = LogisticRegression()\n",
    "logistic_audit.fit(X6_train, y6_train)\n",
    "end_time = process_time()\n",
    "\n",
    "logistic_audit_tr_pred = logistic_audit.predict(X6_train)\n",
    "logistic_audit_te_pred = logistic_audit.predict(X6_test)"
   ]
  },
  {
   "cell_type": "code",
   "execution_count": 45,
   "metadata": {},
   "outputs": [
    {
     "data": {
      "text/plain": [
       "0.015625"
      ]
     },
     "execution_count": 45,
     "metadata": {},
     "output_type": "execute_result"
    }
   ],
   "source": [
    "timecost_6_logistic = end_time-start_time\n",
    "timecost_6_logistic"
   ]
  },
  {
   "cell_type": "code",
   "execution_count": 46,
   "metadata": {},
   "outputs": [
    {
     "data": {
      "text/plain": [
       "(1.0,\n",
       " array([[331,   0],\n",
       "        [  0, 327]], dtype=int64))"
      ]
     },
     "execution_count": 46,
     "metadata": {},
     "output_type": "execute_result"
    }
   ],
   "source": [
    "accuracy_confusion_tr(y6_train, logistic_audit_tr_pred)"
   ]
  },
  {
   "cell_type": "code",
   "execution_count": 47,
   "metadata": {},
   "outputs": [
    {
     "data": {
      "text/plain": [
       "(1.0,\n",
       " array([[139,   0],\n",
       "        [  0, 143]], dtype=int64))"
      ]
     },
     "execution_count": 47,
     "metadata": {},
     "output_type": "execute_result"
    }
   ],
   "source": [
    "accuracy_confusion_te(y6_test, logistic_audit_te_pred)"
   ]
  },
  {
   "cell_type": "markdown",
   "metadata": {},
   "source": [
    "__knn__"
   ]
  },
  {
   "cell_type": "code",
   "execution_count": 48,
   "metadata": {},
   "outputs": [
    {
     "data": {
      "text/plain": [
       "{'n_neighbors': 2}"
      ]
     },
     "execution_count": 48,
     "metadata": {},
     "output_type": "execute_result"
    }
   ],
   "source": [
    "# tune the parameters\n",
    "knn = KNeighborsClassifier()\n",
    "knn_param_grid = {\n",
    "    'n_neighbors' : list(range(1,20,1))\n",
    "}\n",
    "\n",
    "knn_grid_search = GridSearchCV(knn, knn_param_grid, cv = 5)\n",
    "knn_grid_search.fit(X6_train, y6_train)\n",
    "knn_grid_search.best_params_"
   ]
  },
  {
   "cell_type": "code",
   "execution_count": 49,
   "metadata": {},
   "outputs": [],
   "source": [
    "start_time = process_time()\n",
    "knn_audit = KNeighborsClassifier(n_neighbors=2)\n",
    "knn_audit.fit(X6_train, y6_train)\n",
    "end_time = process_time()\n",
    "\n",
    "knn_audit_tr_pred = knn_audit.predict(X6_train)\n",
    "knn_audit_te_pred = knn_audit.predict(X6_test)"
   ]
  },
  {
   "cell_type": "code",
   "execution_count": 50,
   "metadata": {},
   "outputs": [
    {
     "data": {
      "text/plain": [
       "0.0"
      ]
     },
     "execution_count": 50,
     "metadata": {},
     "output_type": "execute_result"
    }
   ],
   "source": [
    "timecost_6_knn = end_time-start_time\n",
    "timecost_6_knn"
   ]
  },
  {
   "cell_type": "code",
   "execution_count": 51,
   "metadata": {},
   "outputs": [
    {
     "data": {
      "text/plain": [
       "(1.0,\n",
       " array([[331,   0],\n",
       "        [  0, 327]], dtype=int64))"
      ]
     },
     "execution_count": 51,
     "metadata": {},
     "output_type": "execute_result"
    }
   ],
   "source": [
    "accuracy_confusion_tr(y6_train, knn_audit_tr_pred)"
   ]
  },
  {
   "cell_type": "code",
   "execution_count": 52,
   "metadata": {},
   "outputs": [
    {
     "data": {
      "text/plain": [
       "(1.0,\n",
       " array([[139,   0],\n",
       "        [  0, 143]], dtype=int64))"
      ]
     },
     "execution_count": 52,
     "metadata": {},
     "output_type": "execute_result"
    }
   ],
   "source": [
    "accuracy_confusion_te(y6_test, knn_audit_te_pred)"
   ]
  },
  {
   "cell_type": "markdown",
   "metadata": {},
   "source": [
    "__decision tree__"
   ]
  },
  {
   "cell_type": "code",
   "execution_count": 53,
   "metadata": {},
   "outputs": [],
   "source": [
    "start_time = process_time()\n",
    "dt_audit = DecisionTreeClassifier()\n",
    "dt_audit.fit(X6_train, y6_train)\n",
    "end_time = process_time()\n",
    "\n",
    "dt_audit_tr_pred = dt_audit.predict(X6_train)\n",
    "dt_audit_te_pred = dt_audit.predict(X6_test)"
   ]
  },
  {
   "cell_type": "code",
   "execution_count": 54,
   "metadata": {},
   "outputs": [
    {
     "data": {
      "text/plain": [
       "0.0"
      ]
     },
     "execution_count": 54,
     "metadata": {},
     "output_type": "execute_result"
    }
   ],
   "source": [
    "timecost_6_dt = end_time-start_time\n",
    "timecost_6_dt"
   ]
  },
  {
   "cell_type": "code",
   "execution_count": 55,
   "metadata": {},
   "outputs": [
    {
     "data": {
      "text/plain": [
       "(1.0,\n",
       " array([[331,   0],\n",
       "        [  0, 327]], dtype=int64))"
      ]
     },
     "execution_count": 55,
     "metadata": {},
     "output_type": "execute_result"
    }
   ],
   "source": [
    "accuracy_confusion_tr(y6_train, dt_audit_tr_pred)"
   ]
  },
  {
   "cell_type": "code",
   "execution_count": 56,
   "metadata": {},
   "outputs": [
    {
     "data": {
      "text/plain": [
       "(1.0,\n",
       " array([[139,   0],\n",
       "        [  0, 143]], dtype=int64))"
      ]
     },
     "execution_count": 56,
     "metadata": {},
     "output_type": "execute_result"
    }
   ],
   "source": [
    "accuracy_confusion_te(y6_test, dt_audit_te_pred)"
   ]
  },
  {
   "cell_type": "markdown",
   "metadata": {},
   "source": [
    "__random forest__"
   ]
  },
  {
   "cell_type": "code",
   "execution_count": 57,
   "metadata": {},
   "outputs": [],
   "source": [
    "start_time = process_time()\n",
    "rf_audit = RandomForestClassifier(n_estimators = 500)\n",
    "rf_audit.fit(X6_train, y6_train)\n",
    "end_time = process_time()\n",
    "\n",
    "rf_audit_tr_pred = rf_audit.predict(X6_train)\n",
    "rf_audit_te_pred = rf_audit.predict(X6_test)"
   ]
  },
  {
   "cell_type": "code",
   "execution_count": 58,
   "metadata": {},
   "outputs": [
    {
     "data": {
      "text/plain": [
       "1.015625"
      ]
     },
     "execution_count": 58,
     "metadata": {},
     "output_type": "execute_result"
    }
   ],
   "source": [
    "timecost_6_rf = end_time-start_time\n",
    "timecost_6_rf"
   ]
  },
  {
   "cell_type": "code",
   "execution_count": 59,
   "metadata": {},
   "outputs": [
    {
     "data": {
      "text/plain": [
       "(1.0,\n",
       " array([[331,   0],\n",
       "        [  0, 327]], dtype=int64))"
      ]
     },
     "execution_count": 59,
     "metadata": {},
     "output_type": "execute_result"
    }
   ],
   "source": [
    "accuracy_confusion_tr(y6_train, rf_audit_tr_pred)"
   ]
  },
  {
   "cell_type": "code",
   "execution_count": 60,
   "metadata": {},
   "outputs": [
    {
     "data": {
      "text/plain": [
       "(1.0,\n",
       " array([[139,   0],\n",
       "        [  0, 143]], dtype=int64))"
      ]
     },
     "execution_count": 60,
     "metadata": {},
     "output_type": "execute_result"
    }
   ],
   "source": [
    "accuracy_confusion_te(y6_test, rf_audit_te_pred)"
   ]
  },
  {
   "cell_type": "markdown",
   "metadata": {},
   "source": [
    "__svm__"
   ]
  },
  {
   "cell_type": "code",
   "execution_count": 95,
   "metadata": {},
   "outputs": [
    {
     "data": {
      "text/plain": [
       "{'C': 0.01, 'gamma': 'scale', 'kernel': 'linear'}"
      ]
     },
     "execution_count": 95,
     "metadata": {},
     "output_type": "execute_result"
    }
   ],
   "source": [
    "# tune the parameters\n",
    "svm = SVC()\n",
    "svm_param_grid = {\n",
    "    'C' : [1e-06, 1e-04, 1e-02,0.1, 1],\n",
    "    'kernel': ['linear','sigmoid', 'rbf', 'poly'],\n",
    "    'gamma': ['scale', 'auto']\n",
    "}\n",
    "\n",
    "svm_grid_search = GridSearchCV(svm, svm_param_grid, cv = 5)\n",
    "svm_grid_search.fit(X6_train, y6_train)\n",
    "svm_grid_search.best_params_"
   ]
  },
  {
   "cell_type": "code",
   "execution_count": 61,
   "metadata": {},
   "outputs": [],
   "source": [
    "start_time = process_time()\n",
    "svm_audit = SVC(C = 0.01, gamma = 'scale', kernel = 'linear', probability = True)\n",
    "svm_audit.fit(X6_train, y6_train)\n",
    "end_time = process_time()\n",
    "\n",
    "svm_audit_tr_pred = svm_audit.predict(X6_train)\n",
    "svm_audit_te_pred = svm_audit.predict(X6_test)"
   ]
  },
  {
   "cell_type": "code",
   "execution_count": 62,
   "metadata": {},
   "outputs": [
    {
     "data": {
      "text/plain": [
       "0.015625"
      ]
     },
     "execution_count": 62,
     "metadata": {},
     "output_type": "execute_result"
    }
   ],
   "source": [
    "timecost_6_svm = end_time-start_time\n",
    "timecost_6_svm"
   ]
  },
  {
   "cell_type": "code",
   "execution_count": 63,
   "metadata": {},
   "outputs": [
    {
     "data": {
      "text/plain": [
       "(1.0,\n",
       " array([[331,   0],\n",
       "        [  0, 327]], dtype=int64))"
      ]
     },
     "execution_count": 63,
     "metadata": {},
     "output_type": "execute_result"
    }
   ],
   "source": [
    "accuracy_confusion_tr(y6_train, svm_audit_tr_pred)"
   ]
  },
  {
   "cell_type": "code",
   "execution_count": 64,
   "metadata": {},
   "outputs": [
    {
     "data": {
      "text/plain": [
       "(1.0,\n",
       " array([[139,   0],\n",
       "        [  0, 143]], dtype=int64))"
      ]
     },
     "execution_count": 64,
     "metadata": {},
     "output_type": "execute_result"
    }
   ],
   "source": [
    "accuracy_confusion_tr(y6_test, svm_audit_te_pred)"
   ]
  },
  {
   "cell_type": "code",
   "execution_count": 65,
   "metadata": {},
   "outputs": [
    {
     "data": {
      "text/plain": [
       "Text(0.5, 1.0, 'ROC curve over different algorithms in the Audit Risk dataset')"
      ]
     },
     "execution_count": 65,
     "metadata": {},
     "output_type": "execute_result"
    },
    {
     "data": {
      "image/png": "[encoded data removed]",
      "text/plain": [
       "<Figure size 432x288 with 1 Axes>"
      ]
     },
     "metadata": {
      "needs_background": "light"
     },
     "output_type": "display_data"
    }
   ],
   "source": [
    "roc_curve(logistic_audit, knn_audit, dt_audit, rf_audit, svm_audit, X6_test, y6_test)\n",
    "plt.title(\"ROC curve over different algorithms in the Audit Risk dataset\")"
   ]
  },
  {
   "cell_type": "code",
   "execution_count": 66,
   "metadata": {},
   "outputs": [
    {
     "data": {
      "text/plain": [
       "Text(0.5, 1.0, 'PR curve over different algorithms in the Audit Risk dataset')"
      ]
     },
     "execution_count": 66,
     "metadata": {},
     "output_type": "execute_result"
    },
    {
     "data": {
      "image/png": "[encoded data removed]",
      "text/plain": [
       "<Figure size 432x288 with 1 Axes>"
      ]
     },
     "metadata": {
      "needs_background": "light"
     },
     "output_type": "display_data"
    }
   ],
   "source": [
    "pr_curve(logistic_audit, knn_audit, dt_audit, rf_audit, svm_audit, X6_test, y6_test)\n",
    "plt.title(\"PR curve over different algorithms in the Audit Risk dataset\")"
   ]
  },
  {
   "cell_type": "markdown",
   "metadata": {},
   "source": [
    "__n large d small dataset: skin segmentation__"
   ]
  },
  {
   "cell_type": "markdown",
   "metadata": {},
   "source": [
    "__logistic regression__"
   ]
  },
  {
   "cell_type": "code",
   "execution_count": 127,
   "metadata": {},
   "outputs": [],
   "source": [
    "start_time = process_time()\n",
    "logistic_skin = LogisticRegression()\n",
    "logistic_skin.fit(X1_train, y1_train)\n",
    "end_time = process_time()\n",
    "\n",
    "logistic_skin_tr_pred = logistic_skin.predict(X1_train)\n",
    "logistic_skin_te_pred = logistic_skin.predict(X1_test)"
   ]
  },
  {
   "cell_type": "code",
   "execution_count": 128,
   "metadata": {},
   "outputs": [
    {
     "data": {
      "text/plain": [
       "0.609375"
      ]
     },
     "execution_count": 128,
     "metadata": {},
     "output_type": "execute_result"
    }
   ],
   "source": [
    "timecost_1_logistic = end_time-start_time\n",
    "timecost_1_logistic"
   ]
  },
  {
   "cell_type": "code",
   "execution_count": 129,
   "metadata": {},
   "outputs": [
    {
     "data": {
      "text/plain": [
       "(0.9190388191606573,\n",
       " array([[128316,   7617],\n",
       "        [  6271,  29335]], dtype=int64))"
      ]
     },
     "execution_count": 129,
     "metadata": {},
     "output_type": "execute_result"
    }
   ],
   "source": [
    "accuracy_confusion_tr(y1_train, logistic_skin_tr_pred)"
   ]
  },
  {
   "cell_type": "code",
   "execution_count": 130,
   "metadata": {},
   "outputs": [
    {
     "data": {
      "text/plain": [
       "(0.9185641611578117,\n",
       " array([[54943,  3322],\n",
       "        [ 2665, 12588]], dtype=int64))"
      ]
     },
     "execution_count": 130,
     "metadata": {},
     "output_type": "execute_result"
    }
   ],
   "source": [
    "accuracy_confusion_tr(y1_test, logistic_skin_te_pred)"
   ]
  },
  {
   "cell_type": "markdown",
   "metadata": {},
   "source": [
    "__knn__"
   ]
  },
  {
   "cell_type": "code",
   "execution_count": 105,
   "metadata": {},
   "outputs": [
    {
     "data": {
      "text/plain": [
       "{'n_neighbors': 4}"
      ]
     },
     "execution_count": 105,
     "metadata": {},
     "output_type": "execute_result"
    }
   ],
   "source": [
    "# tune the parameters\n",
    "knn = KNeighborsClassifier()\n",
    "knn_param_grid = {\n",
    "    'n_neighbors' : list(range(1,10,1)),\n",
    "}\n",
    "\n",
    "knn_grid_search = GridSearchCV(knn, knn_param_grid, cv = 5)\n",
    "knn_grid_search.fit(X1_train, y1_train)\n",
    "knn_grid_search.best_params_"
   ]
  },
  {
   "cell_type": "code",
   "execution_count": 131,
   "metadata": {},
   "outputs": [],
   "source": [
    "start_time = process_time()\n",
    "knn_skin = KNeighborsClassifier(n_neighbors=4)\n",
    "knn_skin.fit(X1_train, y1_train)\n",
    "end_time = process_time()\n",
    "\n",
    "knn_skin_tr_pred = knn_skin.predict(X1_train)\n",
    "knn_skin_te_pred = knn_skin.predict(X1_test)"
   ]
  },
  {
   "cell_type": "code",
   "execution_count": 132,
   "metadata": {},
   "outputs": [
    {
     "data": {
      "text/plain": [
       "0.4375"
      ]
     },
     "execution_count": 132,
     "metadata": {},
     "output_type": "execute_result"
    }
   ],
   "source": [
    "timecost_1_knn = end_time-start_time\n",
    "timecost_1_knn"
   ]
  },
  {
   "cell_type": "code",
   "execution_count": 133,
   "metadata": {},
   "outputs": [
    {
     "data": {
      "text/plain": [
       "(0.999650225313194,\n",
       " array([[135883,     50],\n",
       "        [    10,  35596]], dtype=int64))"
      ]
     },
     "execution_count": 133,
     "metadata": {},
     "output_type": "execute_result"
    }
   ],
   "source": [
    "accuracy_confusion_tr(y1_train, knn_skin_tr_pred)"
   ]
  },
  {
   "cell_type": "code",
   "execution_count": 134,
   "metadata": {},
   "outputs": [
    {
     "data": {
      "text/plain": [
       "(0.9996055387796186,\n",
       " array([[58238,    27],\n",
       "        [    2, 15251]], dtype=int64))"
      ]
     },
     "execution_count": 134,
     "metadata": {},
     "output_type": "execute_result"
    }
   ],
   "source": [
    "accuracy_confusion_tr(y1_test, knn_skin_te_pred)"
   ]
  },
  {
   "cell_type": "markdown",
   "metadata": {},
   "source": [
    "__decision tree__"
   ]
  },
  {
   "cell_type": "code",
   "execution_count": 109,
   "metadata": {},
   "outputs": [
    {
     "data": {
      "text/plain": [
       "{'max_depth': 200, 'min_samples_leaf': 1, 'min_samples_split': 2}"
      ]
     },
     "execution_count": 109,
     "metadata": {},
     "output_type": "execute_result"
    }
   ],
   "source": [
    "# tune the parameters\n",
    "dt = DecisionTreeClassifier()\n",
    "dt_param_grid = {\n",
    "    'max_depth' : [100, 200, 300],\n",
    "    'min_samples_split':[2,6,10],\n",
    "    'min_samples_leaf':[1, 2, 5]\n",
    "}\n",
    "\n",
    "dt_grid_search = GridSearchCV(dt, dt_param_grid, cv = 5)\n",
    "dt_grid_search.fit(X1_train, y1_train)\n",
    "dt_grid_search.best_params_"
   ]
  },
  {
   "cell_type": "code",
   "execution_count": 135,
   "metadata": {},
   "outputs": [],
   "source": [
    "start_time = process_time()\n",
    "dt_skin = DecisionTreeClassifier(max_depth = 200, min_samples_split =2 , min_samples_leaf =1)\n",
    "dt_skin.fit(X1_train, y1_train)\n",
    "end_time = process_time()\n",
    "\n",
    "dt_skin_tr_pred = dt_skin.predict(X1_train)\n",
    "dt_skin_te_pred = dt_skin.predict(X1_test)"
   ]
  },
  {
   "cell_type": "code",
   "execution_count": 137,
   "metadata": {},
   "outputs": [
    {
     "data": {
      "text/plain": [
       "0.328125"
      ]
     },
     "execution_count": 137,
     "metadata": {},
     "output_type": "execute_result"
    }
   ],
   "source": [
    "timecost_1_dt = end_time-start_time\n",
    "timecost_1_dt"
   ]
  },
  {
   "cell_type": "code",
   "execution_count": 138,
   "metadata": {},
   "outputs": [
    {
     "data": {
      "text/plain": [
       "(0.9999475337969791,\n",
       " array([[135932,      1],\n",
       "        [     8,  35598]], dtype=int64))"
      ]
     },
     "execution_count": 138,
     "metadata": {},
     "output_type": "execute_result"
    }
   ],
   "source": [
    "accuracy_confusion_tr(y1_train, dt_skin_tr_pred)"
   ]
  },
  {
   "cell_type": "code",
   "execution_count": 139,
   "metadata": {},
   "outputs": [
    {
     "data": {
      "text/plain": [
       "(0.9991702712260943,\n",
       " array([[58231,    34],\n",
       "        [   27, 15226]], dtype=int64))"
      ]
     },
     "execution_count": 139,
     "metadata": {},
     "output_type": "execute_result"
    }
   ],
   "source": [
    "accuracy_confusion_te(y1_test, dt_skin_te_pred)"
   ]
  },
  {
   "cell_type": "markdown",
   "metadata": {},
   "source": [
    "__random forest__"
   ]
  },
  {
   "cell_type": "code",
   "execution_count": 113,
   "metadata": {},
   "outputs": [
    {
     "data": {
      "text/plain": [
       "{'max_depth': 200, 'min_samples_leaf': 1, 'min_samples_split': 10}"
      ]
     },
     "execution_count": 113,
     "metadata": {},
     "output_type": "execute_result"
    }
   ],
   "source": [
    "# tune the parameters\n",
    "rf = RandomForestClassifier()\n",
    "rf_param_grid = {\n",
    "    'max_depth' : [100, 200],\n",
    "    'min_samples_split':[2,6,10],\n",
    "    'min_samples_leaf':[1, 2, 5]\n",
    "}\n",
    "\n",
    "rf_grid_search = GridSearchCV(rf, rf_param_grid, cv = 3)\n",
    "rf_grid_search.fit(X1_train, y1_train)\n",
    "rf_grid_search.best_params_"
   ]
  },
  {
   "cell_type": "code",
   "execution_count": 144,
   "metadata": {},
   "outputs": [],
   "source": [
    "start_time = process_time()\n",
    "rf_skin = RandomForestClassifier(max_depth = 200, min_samples_split =10 , min_samples_leaf =1)\n",
    "rf_skin.fit(X1_train, y1_train)\n",
    "end_time = process_time()\n",
    "\n",
    "rf_skin_tr_pred = rf_skin.predict(X1_train)\n",
    "rf_skin_te_pred = rf_skin.predict(X1_test)"
   ]
  },
  {
   "cell_type": "code",
   "execution_count": 145,
   "metadata": {},
   "outputs": [
    {
     "data": {
      "text/plain": [
       "9.859375"
      ]
     },
     "execution_count": 145,
     "metadata": {},
     "output_type": "execute_result"
    }
   ],
   "source": [
    "timecost_1_rf = end_time-start_time\n",
    "timecost_1_rf"
   ]
  },
  {
   "cell_type": "code",
   "execution_count": 146,
   "metadata": {},
   "outputs": [
    {
     "data": {
      "text/plain": [
       "(0.9998017943441433,\n",
       " array([[135902,     31],\n",
       "        [     3,  35603]], dtype=int64))"
      ]
     },
     "execution_count": 146,
     "metadata": {},
     "output_type": "execute_result"
    }
   ],
   "source": [
    "accuracy_confusion_tr(y1_train, rf_skin_tr_pred)"
   ]
  },
  {
   "cell_type": "code",
   "execution_count": 147,
   "metadata": {},
   "outputs": [
    {
     "data": {
      "text/plain": [
       "(0.9995783345575233,\n",
       " array([[58236,    29],\n",
       "        [    2, 15251]], dtype=int64))"
      ]
     },
     "execution_count": 147,
     "metadata": {},
     "output_type": "execute_result"
    }
   ],
   "source": [
    "accuracy_confusion_te(y1_test, rf_skin_te_pred)"
   ]
  },
  {
   "cell_type": "markdown",
   "metadata": {},
   "source": [
    "__svm__"
   ]
  },
  {
   "cell_type": "code",
   "execution_count": 118,
   "metadata": {},
   "outputs": [
    {
     "data": {
      "text/plain": [
       "{'C': 1, 'kernel': 'rbf'}"
      ]
     },
     "execution_count": 118,
     "metadata": {},
     "output_type": "execute_result"
    }
   ],
   "source": [
    "# tune the parameters\n",
    "svm = SVC()\n",
    "svm_param_grid = {\n",
    "    'C' : [1e-02,0.1, 1],\n",
    "    'kernel': ['linear','sigmoid', 'rbf'],\n",
    "}\n",
    "\n",
    "svm_grid_search = GridSearchCV(svm, svm_param_grid, cv = 3)\n",
    "svm_grid_search.fit(X1_train, y1_train)\n",
    "svm_grid_search.best_params_"
   ]
  },
  {
   "cell_type": "code",
   "execution_count": 148,
   "metadata": {},
   "outputs": [],
   "source": [
    "start_time = process_time()\n",
    "svm_skin = SVC(C = 1, kernel = 'rbf',probability = True)\n",
    "svm_skin.fit(X1_train, y1_train)\n",
    "end_time = process_time()\n",
    "\n",
    "svm_skin_tr_pred = svm_skin.predict(X1_train)\n",
    "svm_skin_te_pred = svm_skin.predict(X1_test)"
   ]
  },
  {
   "cell_type": "code",
   "execution_count": 149,
   "metadata": {},
   "outputs": [
    {
     "data": {
      "text/plain": [
       "155.5"
      ]
     },
     "execution_count": 149,
     "metadata": {},
     "output_type": "execute_result"
    }
   ],
   "source": [
    "timecost_1_svm = end_time-start_time\n",
    "timecost_1_svm"
   ]
  },
  {
   "cell_type": "code",
   "execution_count": 150,
   "metadata": {},
   "outputs": [
    {
     "data": {
      "text/plain": [
       "(0.9982627857221973,\n",
       " array([[135641,    292],\n",
       "        [     6,  35600]], dtype=int64))"
      ]
     },
     "execution_count": 150,
     "metadata": {},
     "output_type": "execute_result"
    }
   ],
   "source": [
    "accuracy_confusion_tr(y1_train, svm_skin_tr_pred)"
   ]
  },
  {
   "cell_type": "code",
   "execution_count": 151,
   "metadata": {},
   "outputs": [
    {
     "data": {
      "text/plain": [
       "(0.9983405424521886,\n",
       " array([[58143,   122],\n",
       "        [    0, 15253]], dtype=int64))"
      ]
     },
     "execution_count": 151,
     "metadata": {},
     "output_type": "execute_result"
    }
   ],
   "source": [
    "accuracy_confusion_tr(y1_test, svm_skin_te_pred)"
   ]
  },
  {
   "cell_type": "code",
   "execution_count": 152,
   "metadata": {},
   "outputs": [
    {
     "data": {
      "text/plain": [
       "Text(0.5, 1.0, 'ROC curve over different algorithms in the Skin Segement dataset')"
      ]
     },
     "execution_count": 152,
     "metadata": {},
     "output_type": "execute_result"
    },
    {
     "data": {
      "image/png": "[encoded data removed]",
      "text/plain": [
       "<Figure size 432x288 with 1 Axes>"
      ]
     },
     "metadata": {
      "needs_background": "light"
     },
     "output_type": "display_data"
    }
   ],
   "source": [
    "roc_curve(logistic_skin, knn_skin, dt_skin, rf_skin, svm_skin, X1_test, y1_test)\n",
    "plt.title(\"ROC curve over different algorithms in the Skin Segement dataset\")"
   ]
  },
  {
   "cell_type": "code",
   "execution_count": 153,
   "metadata": {},
   "outputs": [
    {
     "data": {
      "text/plain": [
       "Text(0.5, 1.0, 'PR curve over different algorithms in the Skin Segement dataset')"
      ]
     },
     "execution_count": 153,
     "metadata": {},
     "output_type": "execute_result"
    },
    {
     "data": {
      "image/png": "[encoded data removed]",
      "text/plain": [
       "<Figure size 432x288 with 1 Axes>"
      ]
     },
     "metadata": {
      "needs_background": "light"
     },
     "output_type": "display_data"
    }
   ],
   "source": [
    "pr_curve(logistic_skin, knn_skin, dt_skin, rf_skin, svm_skin, X1_test, y1_test)\n",
    "plt.title(\"PR curve over different algorithms in the Skin Segement dataset\")"
   ]
  },
  {
   "cell_type": "markdown",
   "metadata": {},
   "source": [
    "__n large d small: Pulstar__"
   ]
  },
  {
   "cell_type": "markdown",
   "metadata": {},
   "source": [
    "__logistic regression__"
   ]
  },
  {
   "cell_type": "code",
   "execution_count": 154,
   "metadata": {},
   "outputs": [],
   "source": [
    "start_time = process_time()\n",
    "logistic_pulstar = LogisticRegression()\n",
    "logistic_pulstar.fit(X2_train, y2_train)\n",
    "end_time = process_time()\n",
    "\n",
    "logistic_pulstar_tr_pred = logistic_pulstar.predict(X2_train)\n",
    "logistic_pulstar_te_pred = logistic_pulstar.predict(X2_test)"
   ]
  },
  {
   "cell_type": "code",
   "execution_count": 155,
   "metadata": {},
   "outputs": [
    {
     "data": {
      "text/plain": [
       "0.265625"
      ]
     },
     "execution_count": 155,
     "metadata": {},
     "output_type": "execute_result"
    }
   ],
   "source": [
    "timecost_2_logistic = end_time-start_time\n",
    "timecost_2_logistic"
   ]
  },
  {
   "cell_type": "code",
   "execution_count": 156,
   "metadata": {},
   "outputs": [
    {
     "data": {
      "text/plain": [
       "(0.9416132150074686,\n",
       " array([[11085,   272],\n",
       "        [ 1057, 10348]], dtype=int64))"
      ]
     },
     "execution_count": 156,
     "metadata": {},
     "output_type": "execute_result"
    }
   ],
   "source": [
    "accuracy_confusion_tr(y2_train, logistic_pulstar_tr_pred)"
   ]
  },
  {
   "cell_type": "code",
   "execution_count": 157,
   "metadata": {},
   "outputs": [
    {
     "data": {
      "text/plain": [
       "(0.9420869208692086,\n",
       " array([[4766,  136],\n",
       "        [ 429, 4425]], dtype=int64))"
      ]
     },
     "execution_count": 157,
     "metadata": {},
     "output_type": "execute_result"
    }
   ],
   "source": [
    "accuracy_confusion_tr(y2_test, logistic_pulstar_te_pred)"
   ]
  },
  {
   "cell_type": "markdown",
   "metadata": {},
   "source": [
    "__knn__"
   ]
  },
  {
   "cell_type": "code",
   "execution_count": 127,
   "metadata": {},
   "outputs": [
    {
     "data": {
      "text/plain": [
       "{'n_neighbors': 2}"
      ]
     },
     "execution_count": 127,
     "metadata": {},
     "output_type": "execute_result"
    }
   ],
   "source": [
    "# tune the parameters\n",
    "knn = KNeighborsClassifier()\n",
    "knn_param_grid = {\n",
    "    'n_neighbors' : list(range(1,5,1)),\n",
    "}\n",
    "\n",
    "knn_grid_search = GridSearchCV(knn, knn_param_grid, cv = 5)\n",
    "knn_grid_search.fit(X2_train, y2_train)\n",
    "knn_grid_search.best_params_"
   ]
  },
  {
   "cell_type": "code",
   "execution_count": 158,
   "metadata": {},
   "outputs": [],
   "source": [
    "start_time = process_time()\n",
    "knn_pulstar = KNeighborsClassifier(n_neighbors=2)\n",
    "knn_pulstar.fit(X2_train, y2_train)\n",
    "end_time = process_time()\n",
    "\n",
    "knn_pulstar_tr_pred = knn_pulstar.predict(X2_train)\n",
    "knn_pulstar_te_pred = knn_pulstar.predict(X2_test)"
   ]
  },
  {
   "cell_type": "code",
   "execution_count": 159,
   "metadata": {},
   "outputs": [
    {
     "data": {
      "text/plain": [
       "0.078125"
      ]
     },
     "execution_count": 159,
     "metadata": {},
     "output_type": "execute_result"
    }
   ],
   "source": [
    "timecost_2_knn = end_time-start_time\n",
    "timecost_2_knn"
   ]
  },
  {
   "cell_type": "code",
   "execution_count": 160,
   "metadata": {},
   "outputs": [
    {
     "data": {
      "text/plain": [
       "(0.9929268078376241,\n",
       " array([[11357,     0],\n",
       "        [  161, 11244]], dtype=int64))"
      ]
     },
     "execution_count": 160,
     "metadata": {},
     "output_type": "execute_result"
    }
   ],
   "source": [
    "accuracy_confusion_tr(y2_train, knn_pulstar_tr_pred)"
   ]
  },
  {
   "cell_type": "code",
   "execution_count": 161,
   "metadata": {},
   "outputs": [
    {
     "data": {
      "text/plain": [
       "(0.9724272242722427,\n",
       " array([[4770,  132],\n",
       "        [ 137, 4717]], dtype=int64))"
      ]
     },
     "execution_count": 161,
     "metadata": {},
     "output_type": "execute_result"
    }
   ],
   "source": [
    "accuracy_confusion_tr(y2_test, knn_pulstar_te_pred)"
   ]
  },
  {
   "cell_type": "markdown",
   "metadata": {},
   "source": [
    "__decision tree__"
   ]
  },
  {
   "cell_type": "code",
   "execution_count": 131,
   "metadata": {},
   "outputs": [
    {
     "data": {
      "text/plain": [
       "{'max_depth': 100, 'min_samples_leaf': 1, 'min_samples_split': 6}"
      ]
     },
     "execution_count": 131,
     "metadata": {},
     "output_type": "execute_result"
    }
   ],
   "source": [
    "# tune the parameters\n",
    "dt = DecisionTreeClassifier()\n",
    "dt_param_grid = {\n",
    "    'max_depth' : [100, 200, 300],\n",
    "    'min_samples_split':[2,5, 6, 7, 10],\n",
    "    'min_samples_leaf':[1, 2, 5]\n",
    "}\n",
    "\n",
    "dt_grid_search = GridSearchCV(dt, dt_param_grid, cv = 5)\n",
    "dt_grid_search.fit(X2_train, y2_train)\n",
    "dt_grid_search.best_params_"
   ]
  },
  {
   "cell_type": "code",
   "execution_count": 162,
   "metadata": {},
   "outputs": [],
   "source": [
    "start_time = process_time()\n",
    "dt_pulstar = DecisionTreeClassifier(max_depth = 100, min_samples_split =6 , min_samples_leaf =1)\n",
    "dt_pulstar.fit(X2_train, y2_train)\n",
    "end_time = process_time()\n",
    "\n",
    "dt_pulstar_tr_pred = dt_pulstar.predict(X2_train)\n",
    "dt_pulstar_te_pred = dt_pulstar.predict(X2_test)"
   ]
  },
  {
   "cell_type": "code",
   "execution_count": 163,
   "metadata": {},
   "outputs": [
    {
     "data": {
      "text/plain": [
       "0.359375"
      ]
     },
     "execution_count": 163,
     "metadata": {},
     "output_type": "execute_result"
    }
   ],
   "source": [
    "timecost_2_dt = end_time-start_time\n",
    "timecost_2_dt"
   ]
  },
  {
   "cell_type": "code",
   "execution_count": 164,
   "metadata": {},
   "outputs": [
    {
     "data": {
      "text/plain": [
       "(0.9955188472014761,\n",
       " array([[11321,    36],\n",
       "        [   66, 11339]], dtype=int64))"
      ]
     },
     "execution_count": 164,
     "metadata": {},
     "output_type": "execute_result"
    }
   ],
   "source": [
    "accuracy_confusion_tr(y2_train, dt_pulstar_tr_pred)"
   ]
  },
  {
   "cell_type": "code",
   "execution_count": 165,
   "metadata": {},
   "outputs": [
    {
     "data": {
      "text/plain": [
       "(0.9528495284952849,\n",
       " array([[4660,  242],\n",
       "        [ 218, 4636]], dtype=int64))"
      ]
     },
     "execution_count": 165,
     "metadata": {},
     "output_type": "execute_result"
    }
   ],
   "source": [
    "accuracy_confusion_te(y2_test, dt_pulstar_te_pred)"
   ]
  },
  {
   "cell_type": "markdown",
   "metadata": {},
   "source": [
    "__random forest__"
   ]
  },
  {
   "cell_type": "code",
   "execution_count": 139,
   "metadata": {},
   "outputs": [
    {
     "data": {
      "text/plain": [
       "{'max_depth': 200, 'min_samples_leaf': 1, 'min_samples_split': 2}"
      ]
     },
     "execution_count": 139,
     "metadata": {},
     "output_type": "execute_result"
    }
   ],
   "source": [
    "# tune the parameters\n",
    "rf = RandomForestClassifier()\n",
    "rf_param_grid = {\n",
    "    'max_depth' : [100, 200],\n",
    "    'min_samples_split':[2,6],\n",
    "    'min_samples_leaf':[1, 2]\n",
    "}\n",
    "\n",
    "rf_grid_search = GridSearchCV(rf, rf_param_grid, cv = 3)\n",
    "rf_grid_search.fit(X2_train, y2_train)\n",
    "rf_grid_search.best_params_"
   ]
  },
  {
   "cell_type": "code",
   "execution_count": 166,
   "metadata": {},
   "outputs": [],
   "source": [
    "start_time = process_time()\n",
    "rf_pulstar = RandomForestClassifier(max_depth = 200, min_samples_split =2 , min_samples_leaf =1)\n",
    "rf_pulstar.fit(X2_train, y2_train)\n",
    "end_time = process_time()\n",
    "\n",
    "rf_pulstar_tr_pred = rf_pulstar.predict(X2_train)\n",
    "rf_pulstar_te_pred = rf_pulstar.predict(X2_test)"
   ]
  },
  {
   "cell_type": "code",
   "execution_count": 167,
   "metadata": {},
   "outputs": [
    {
     "data": {
      "text/plain": [
       "4.484375"
      ]
     },
     "execution_count": 167,
     "metadata": {},
     "output_type": "execute_result"
    }
   ],
   "source": [
    "timecost_2_rf = end_time-start_time\n",
    "timecost_2_rf"
   ]
  },
  {
   "cell_type": "code",
   "execution_count": 168,
   "metadata": {},
   "outputs": [
    {
     "data": {
      "text/plain": [
       "(1.0,\n",
       " array([[11357,     0],\n",
       "        [    0, 11405]], dtype=int64))"
      ]
     },
     "execution_count": 168,
     "metadata": {},
     "output_type": "execute_result"
    }
   ],
   "source": [
    "accuracy_confusion_tr(y2_train, rf_pulstar_tr_pred)"
   ]
  },
  {
   "cell_type": "code",
   "execution_count": 169,
   "metadata": {},
   "outputs": [
    {
     "data": {
      "text/plain": [
       "(0.975809758097581,\n",
       " array([[4811,   91],\n",
       "        [ 145, 4709]], dtype=int64))"
      ]
     },
     "execution_count": 169,
     "metadata": {},
     "output_type": "execute_result"
    }
   ],
   "source": [
    "accuracy_confusion_te(y2_test, rf_pulstar_te_pred)"
   ]
  },
  {
   "cell_type": "markdown",
   "metadata": {},
   "source": [
    "__svm__"
   ]
  },
  {
   "cell_type": "code",
   "execution_count": 143,
   "metadata": {},
   "outputs": [
    {
     "data": {
      "text/plain": [
       "{'C': 1, 'kernel': 'rbf'}"
      ]
     },
     "execution_count": 143,
     "metadata": {},
     "output_type": "execute_result"
    }
   ],
   "source": [
    "# tune the parameters\n",
    "svm = SVC()\n",
    "svm_param_grid = {\n",
    "    'C' : [1e-02,0.1, 1],\n",
    "    'kernel': ['linear','sigmoid', 'rbf']\n",
    "}\n",
    "\n",
    "svm_grid_search = GridSearchCV(svm, svm_param_grid, cv = 3)\n",
    "svm_grid_search.fit(X2_train, y2_train)\n",
    "svm_grid_search.best_params_"
   ]
  },
  {
   "cell_type": "code",
   "execution_count": 170,
   "metadata": {},
   "outputs": [],
   "source": [
    "start_time = process_time()\n",
    "svm_pulstar = SVC(C = 1, kernel = 'rbf',probability = True)\n",
    "svm_pulstar.fit(X2_train, y2_train)\n",
    "end_time = process_time()\n",
    "\n",
    "svm_pulstar_tr_pred = svm_pulstar.predict(X2_train)\n",
    "svm_pulstar_te_pred = svm_pulstar.predict(X2_test)"
   ]
  },
  {
   "cell_type": "code",
   "execution_count": 171,
   "metadata": {},
   "outputs": [
    {
     "data": {
      "text/plain": [
       "22.640625"
      ]
     },
     "execution_count": 171,
     "metadata": {},
     "output_type": "execute_result"
    }
   ],
   "source": [
    "timecost_2_svm = end_time-start_time\n",
    "timecost_2_svm"
   ]
  },
  {
   "cell_type": "code",
   "execution_count": 172,
   "metadata": {},
   "outputs": [
    {
     "data": {
      "text/plain": [
       "(0.9474123539232053,\n",
       " array([[11155,   202],\n",
       "        [  995, 10410]], dtype=int64))"
      ]
     },
     "execution_count": 172,
     "metadata": {},
     "output_type": "execute_result"
    }
   ],
   "source": [
    "accuracy_confusion_tr(y2_train, svm_pulstar_tr_pred)"
   ]
  },
  {
   "cell_type": "code",
   "execution_count": 173,
   "metadata": {},
   "outputs": [
    {
     "data": {
      "text/plain": [
       "(0.9470069700697007,\n",
       " array([[4800,  102],\n",
       "        [ 415, 4439]], dtype=int64))"
      ]
     },
     "execution_count": 173,
     "metadata": {},
     "output_type": "execute_result"
    }
   ],
   "source": [
    "accuracy_confusion_tr(y2_test, svm_pulstar_te_pred)"
   ]
  },
  {
   "cell_type": "code",
   "execution_count": 174,
   "metadata": {},
   "outputs": [
    {
     "data": {
      "text/plain": [
       "Text(0.5, 1.0, 'ROC curve over different algorithms in the Pulstar dataset')"
      ]
     },
     "execution_count": 174,
     "metadata": {},
     "output_type": "execute_result"
    },
    {
     "data": {
      "image/png": "[encoded data removed]",
      "text/plain": [
       "<Figure size 432x288 with 1 Axes>"
      ]
     },
     "metadata": {
      "needs_background": "light"
     },
     "output_type": "display_data"
    }
   ],
   "source": [
    "roc_curve(logistic_pulstar, knn_pulstar, dt_pulstar, rf_pulstar, svm_pulstar, X2_test, y2_test)\n",
    "plt.title(\"ROC curve over different algorithms in the Pulstar dataset\")"
   ]
  },
  {
   "cell_type": "code",
   "execution_count": 175,
   "metadata": {},
   "outputs": [
    {
     "data": {
      "text/plain": [
       "Text(0.5, 1.0, 'PR curve over different algorithms in the Pulstar dataset')"
      ]
     },
     "execution_count": 175,
     "metadata": {},
     "output_type": "execute_result"
    },
    {
     "data": {
      "image/png": "[encoded data removed]",
      "text/plain": [
       "<Figure size 432x288 with 1 Axes>"
      ]
     },
     "metadata": {
      "needs_background": "light"
     },
     "output_type": "display_data"
    }
   ],
   "source": [
    "pr_curve(logistic_pulstar, knn_pulstar, dt_pulstar, rf_pulstar, svm_pulstar, X2_test, y2_test)\n",
    "plt.title(\"PR curve over different algorithms in the Pulstar dataset\")"
   ]
  },
  {
   "cell_type": "markdown",
   "metadata": {},
   "source": [
    "__n small d large dataset: Arcene__"
   ]
  },
  {
   "cell_type": "markdown",
   "metadata": {},
   "source": [
    "__logistic regression__"
   ]
  },
  {
   "cell_type": "code",
   "execution_count": 176,
   "metadata": {},
   "outputs": [],
   "source": [
    "start_time = process_time()\n",
    "logistic_arcene = LogisticRegression()\n",
    "logistic_arcene.fit(X4_train, y4_train)\n",
    "end_time = process_time()\n",
    "\n",
    "logistic_arcene_tr_pred = logistic_arcene.predict(X4_train)\n",
    "logistic_arcene_te_pred = logistic_arcene.predict(X4_test)"
   ]
  },
  {
   "cell_type": "code",
   "execution_count": 177,
   "metadata": {},
   "outputs": [
    {
     "data": {
      "text/plain": [
       "0.84375"
      ]
     },
     "execution_count": 177,
     "metadata": {},
     "output_type": "execute_result"
    }
   ],
   "source": [
    "timecost_4_logistic = end_time-start_time\n",
    "timecost_4_logistic"
   ]
  },
  {
   "cell_type": "code",
   "execution_count": 178,
   "metadata": {},
   "outputs": [
    {
     "data": {
      "text/plain": [
       "(1.0,\n",
       " array([[56,  0],\n",
       "        [ 0, 44]], dtype=int64))"
      ]
     },
     "execution_count": 178,
     "metadata": {},
     "output_type": "execute_result"
    }
   ],
   "source": [
    "accuracy_confusion_tr(y4_train, logistic_arcene_tr_pred)"
   ]
  },
  {
   "cell_type": "code",
   "execution_count": 179,
   "metadata": {},
   "outputs": [
    {
     "data": {
      "text/plain": [
       "(0.82,\n",
       " array([[46, 10],\n",
       "        [ 8, 36]], dtype=int64))"
      ]
     },
     "execution_count": 179,
     "metadata": {},
     "output_type": "execute_result"
    }
   ],
   "source": [
    "accuracy_confusion_tr(y4_test, logistic_arcene_te_pred)"
   ]
  },
  {
   "cell_type": "markdown",
   "metadata": {},
   "source": [
    "__knn__"
   ]
  },
  {
   "cell_type": "code",
   "execution_count": 152,
   "metadata": {},
   "outputs": [
    {
     "data": {
      "text/plain": [
       "{'n_neighbors': 5}"
      ]
     },
     "execution_count": 152,
     "metadata": {},
     "output_type": "execute_result"
    }
   ],
   "source": [
    "# tune the parameters\n",
    "knn = KNeighborsClassifier()\n",
    "knn_param_grid = {\n",
    "    'n_neighbors' : list(range(1,10,1)),\n",
    "}\n",
    "\n",
    "knn_grid_search = GridSearchCV(knn, knn_param_grid, cv = 5)\n",
    "knn_grid_search.fit(X4_train, y4_train)\n",
    "knn_grid_search.best_params_"
   ]
  },
  {
   "cell_type": "code",
   "execution_count": 180,
   "metadata": {},
   "outputs": [],
   "source": [
    "start_time = process_time()\n",
    "knn_arcene = KNeighborsClassifier(n_neighbors=5)\n",
    "knn_arcene.fit(X4_train, y4_train)\n",
    "end_time = process_time()\n",
    "\n",
    "knn_arcene_tr_pred = knn_arcene.predict(X4_train)\n",
    "knn_arcene_te_pred = knn_arcene.predict(X4_test)"
   ]
  },
  {
   "cell_type": "code",
   "execution_count": 181,
   "metadata": {},
   "outputs": [
    {
     "data": {
      "text/plain": [
       "0.078125"
      ]
     },
     "execution_count": 181,
     "metadata": {},
     "output_type": "execute_result"
    }
   ],
   "source": [
    "timecost_4_knn = end_time-start_time\n",
    "timecost_4_knn"
   ]
  },
  {
   "cell_type": "code",
   "execution_count": 182,
   "metadata": {},
   "outputs": [
    {
     "data": {
      "text/plain": [
       "(0.87,\n",
       " array([[47,  9],\n",
       "        [ 4, 40]], dtype=int64))"
      ]
     },
     "execution_count": 182,
     "metadata": {},
     "output_type": "execute_result"
    }
   ],
   "source": [
    "accuracy_confusion_tr(y4_train, knn_arcene_tr_pred)"
   ]
  },
  {
   "cell_type": "code",
   "execution_count": 183,
   "metadata": {},
   "outputs": [
    {
     "data": {
      "text/plain": [
       "(0.8,\n",
       " array([[44, 12],\n",
       "        [ 8, 36]], dtype=int64))"
      ]
     },
     "execution_count": 183,
     "metadata": {},
     "output_type": "execute_result"
    }
   ],
   "source": [
    "accuracy_confusion_tr(y4_test, knn_arcene_te_pred)"
   ]
  },
  {
   "cell_type": "markdown",
   "metadata": {},
   "source": [
    "__decision tree__"
   ]
  },
  {
   "cell_type": "code",
   "execution_count": 156,
   "metadata": {},
   "outputs": [
    {
     "data": {
      "text/plain": [
       "{'max_depth': 200, 'min_samples_leaf': 1, 'min_samples_split': 2}"
      ]
     },
     "execution_count": 156,
     "metadata": {},
     "output_type": "execute_result"
    }
   ],
   "source": [
    "# tune the parameters\n",
    "dt = DecisionTreeClassifier()\n",
    "dt_param_grid = {\n",
    "    'max_depth' : [100, 200, 300],\n",
    "    'min_samples_split':[2,5, 6, 7, 10],\n",
    "    'min_samples_leaf':[1, 2, 5]\n",
    "}\n",
    "\n",
    "dt_grid_search = GridSearchCV(dt, dt_param_grid, cv = 5)\n",
    "dt_grid_search.fit(X4_train, y4_train)\n",
    "dt_grid_search.best_params_"
   ]
  },
  {
   "cell_type": "code",
   "execution_count": 184,
   "metadata": {},
   "outputs": [],
   "source": [
    "start_time = process_time()\n",
    "dt_arcene = DecisionTreeClassifier(max_depth = 200, min_samples_split =2 , min_samples_leaf =1)\n",
    "dt_arcene.fit(X4_train, y4_train)\n",
    "end_time = process_time()\n",
    "\n",
    "dt_arcene_tr_pred = dt_arcene.predict(X4_train)\n",
    "dt_arcene_te_pred = dt_arcene.predict(X4_test)"
   ]
  },
  {
   "cell_type": "code",
   "execution_count": 186,
   "metadata": {},
   "outputs": [
    {
     "data": {
      "text/plain": [
       "0.203125"
      ]
     },
     "execution_count": 186,
     "metadata": {},
     "output_type": "execute_result"
    }
   ],
   "source": [
    "timecost_4_dt = end_time-start_time\n",
    "timecost_4_dt"
   ]
  },
  {
   "cell_type": "code",
   "execution_count": 187,
   "metadata": {},
   "outputs": [
    {
     "data": {
      "text/plain": [
       "(1.0,\n",
       " array([[56,  0],\n",
       "        [ 0, 44]], dtype=int64))"
      ]
     },
     "execution_count": 187,
     "metadata": {},
     "output_type": "execute_result"
    }
   ],
   "source": [
    "accuracy_confusion_tr(y4_train, dt_arcene_tr_pred)"
   ]
  },
  {
   "cell_type": "code",
   "execution_count": 188,
   "metadata": {},
   "outputs": [
    {
     "data": {
      "text/plain": [
       "(0.64,\n",
       " array([[41, 15],\n",
       "        [21, 23]], dtype=int64))"
      ]
     },
     "execution_count": 188,
     "metadata": {},
     "output_type": "execute_result"
    }
   ],
   "source": [
    "accuracy_confusion_te(y4_test, dt_arcene_te_pred)"
   ]
  },
  {
   "cell_type": "markdown",
   "metadata": {},
   "source": [
    "__random forest__"
   ]
  },
  {
   "cell_type": "code",
   "execution_count": 161,
   "metadata": {},
   "outputs": [
    {
     "data": {
      "text/plain": [
       "{'max_depth': 100, 'min_samples_leaf': 1, 'min_samples_split': 2}"
      ]
     },
     "execution_count": 161,
     "metadata": {},
     "output_type": "execute_result"
    }
   ],
   "source": [
    "# tune the parameters\n",
    "rf = RandomForestClassifier()\n",
    "rf_param_grid = {\n",
    "    'max_depth' : [100, 200, 500],\n",
    "    'min_samples_split':[2,6],\n",
    "    'min_samples_leaf':[1, 2]\n",
    "}\n",
    "\n",
    "rf_grid_search = GridSearchCV(rf, rf_param_grid, cv = 3)\n",
    "rf_grid_search.fit(X4_train, y4_train)\n",
    "rf_grid_search.best_params_"
   ]
  },
  {
   "cell_type": "code",
   "execution_count": 189,
   "metadata": {},
   "outputs": [],
   "source": [
    "start_time = process_time()\n",
    "rf_arcene = RandomForestClassifier(n_estimators = 500, max_depth = 100, min_samples_split =2 , min_samples_leaf =1)\n",
    "rf_arcene.fit(X4_train, y4_train)\n",
    "end_time = process_time()\n",
    "\n",
    "rf_arcene_tr_pred = rf_arcene.predict(X4_train)\n",
    "rf_arcene_te_pred = rf_arcene.predict(X4_test)"
   ]
  },
  {
   "cell_type": "code",
   "execution_count": 190,
   "metadata": {},
   "outputs": [
    {
     "data": {
      "text/plain": [
       "1.484375"
      ]
     },
     "execution_count": 190,
     "metadata": {},
     "output_type": "execute_result"
    }
   ],
   "source": [
    "timecost_4_rf = end_time-start_time\n",
    "timecost_4_rf"
   ]
  },
  {
   "cell_type": "code",
   "execution_count": 191,
   "metadata": {},
   "outputs": [
    {
     "data": {
      "text/plain": [
       "(1.0,\n",
       " array([[56,  0],\n",
       "        [ 0, 44]], dtype=int64))"
      ]
     },
     "execution_count": 191,
     "metadata": {},
     "output_type": "execute_result"
    }
   ],
   "source": [
    "accuracy_confusion_tr(y4_train, rf_arcene_tr_pred)"
   ]
  },
  {
   "cell_type": "code",
   "execution_count": 192,
   "metadata": {
    "scrolled": true
   },
   "outputs": [
    {
     "data": {
      "text/plain": [
       "(0.78,\n",
       " array([[48,  8],\n",
       "        [14, 30]], dtype=int64))"
      ]
     },
     "execution_count": 192,
     "metadata": {},
     "output_type": "execute_result"
    }
   ],
   "source": [
    "accuracy_confusion_te(y4_test, rf_arcene_te_pred)"
   ]
  },
  {
   "cell_type": "markdown",
   "metadata": {},
   "source": [
    "__svm__"
   ]
  },
  {
   "cell_type": "code",
   "execution_count": 165,
   "metadata": {},
   "outputs": [
    {
     "data": {
      "text/plain": [
       "{'C': 0.01, 'kernel': 'linear'}"
      ]
     },
     "execution_count": 165,
     "metadata": {},
     "output_type": "execute_result"
    }
   ],
   "source": [
    "# tune the parameters\n",
    "svm = SVC()\n",
    "svm_param_grid = {\n",
    "    'C' : [1e-02,0.1, 1],\n",
    "    'kernel': ['linear','sigmoid', 'rbf'],\n",
    "}\n",
    "\n",
    "svm_grid_search = GridSearchCV(svm, svm_param_grid, cv = 3)\n",
    "svm_grid_search.fit(X4_train, y4_train)\n",
    "svm_grid_search.best_params_"
   ]
  },
  {
   "cell_type": "code",
   "execution_count": 193,
   "metadata": {},
   "outputs": [],
   "source": [
    "start_time = process_time()\n",
    "svm_arcene = SVC(C=0.01, kernel = 'linear', probability = True)\n",
    "svm_arcene.fit(X4_train, y4_train)\n",
    "end_time = process_time()\n",
    "\n",
    "svm_arcene_tr_pred = svm_arcene.predict(X4_train)\n",
    "svm_arcene_te_pred = svm_arcene.predict(X4_test)"
   ]
  },
  {
   "cell_type": "code",
   "execution_count": 194,
   "metadata": {},
   "outputs": [
    {
     "data": {
      "text/plain": [
       "0.796875"
      ]
     },
     "execution_count": 194,
     "metadata": {},
     "output_type": "execute_result"
    }
   ],
   "source": [
    "timecost_4_svm = end_time-start_time\n",
    "timecost_4_svm"
   ]
  },
  {
   "cell_type": "code",
   "execution_count": 195,
   "metadata": {},
   "outputs": [
    {
     "data": {
      "text/plain": [
       "(1.0,\n",
       " array([[56,  0],\n",
       "        [ 0, 44]], dtype=int64))"
      ]
     },
     "execution_count": 195,
     "metadata": {},
     "output_type": "execute_result"
    }
   ],
   "source": [
    "accuracy_confusion_tr(y4_train, svm_arcene_tr_pred)"
   ]
  },
  {
   "cell_type": "code",
   "execution_count": 196,
   "metadata": {},
   "outputs": [
    {
     "data": {
      "text/plain": [
       "(0.83,\n",
       " array([[46, 10],\n",
       "        [ 7, 37]], dtype=int64))"
      ]
     },
     "execution_count": 196,
     "metadata": {},
     "output_type": "execute_result"
    }
   ],
   "source": [
    "accuracy_confusion_tr(y4_test, svm_arcene_te_pred)"
   ]
  },
  {
   "cell_type": "code",
   "execution_count": 197,
   "metadata": {},
   "outputs": [
    {
     "data": {
      "text/plain": [
       "Text(0.5, 1.0, 'ROC curve over different algorithms in the Pulstar dataset')"
      ]
     },
     "execution_count": 197,
     "metadata": {},
     "output_type": "execute_result"
    },
    {
     "data": {
      "image/png": "[encoded data removed]",
      "text/plain": [
       "<Figure size 432x288 with 1 Axes>"
      ]
     },
     "metadata": {
      "needs_background": "light"
     },
     "output_type": "display_data"
    }
   ],
   "source": [
    "roc_curve(logistic_pulstar, knn_pulstar, dt_pulstar, rf_pulstar, svm_pulstar, X2_test, y2_test)\n",
    "plt.title(\"ROC curve over different algorithms in the Pulstar dataset\")"
   ]
  },
  {
   "cell_type": "code",
   "execution_count": 198,
   "metadata": {},
   "outputs": [
    {
     "data": {
      "text/plain": [
       "Text(0.5, 1.0, 'PR curve over different algorithms in the Pulstar dataset')"
      ]
     },
     "execution_count": 198,
     "metadata": {},
     "output_type": "execute_result"
    },
    {
     "data": {
      "image/png": "[encoded data removed]",
      "text/plain": [
       "<Figure size 432x288 with 1 Axes>"
      ]
     },
     "metadata": {
      "needs_background": "light"
     },
     "output_type": "display_data"
    }
   ],
   "source": [
    "pr_curve(logistic_pulstar, knn_pulstar, dt_pulstar, rf_pulstar, svm_pulstar, X2_test, y2_test)\n",
    "plt.title(\"PR curve over different algorithms in the Pulstar dataset\")"
   ]
  },
  {
   "cell_type": "markdown",
   "metadata": {},
   "source": [
    "__n small d large dataset: tumor__"
   ]
  },
  {
   "cell_type": "markdown",
   "metadata": {},
   "source": [
    "__logistic regression__"
   ]
  },
  {
   "cell_type": "code",
   "execution_count": 199,
   "metadata": {},
   "outputs": [],
   "source": [
    "start_time = process_time()\n",
    "logistic_tumor = LogisticRegression()\n",
    "logistic_tumor.fit(X3_train, y3_train)\n",
    "end_time = process_time()\n",
    "\n",
    "logistic_tumor_tr_pred = logistic_tumor.predict(X3_train)\n",
    "logistic_tumor_te_pred = logistic_tumor.predict(X3_test)"
   ]
  },
  {
   "cell_type": "code",
   "execution_count": 200,
   "metadata": {},
   "outputs": [
    {
     "data": {
      "text/plain": [
       "0.546875"
      ]
     },
     "execution_count": 200,
     "metadata": {},
     "output_type": "execute_result"
    }
   ],
   "source": [
    "timecost_3_logistic = end_time-start_time\n",
    "timecost_3_logistic"
   ]
  },
  {
   "cell_type": "code",
   "execution_count": 201,
   "metadata": {},
   "outputs": [
    {
     "data": {
      "text/plain": [
       "(1.0,\n",
       " array([[ 98,   0],\n",
       "        [  0, 102]], dtype=int64))"
      ]
     },
     "execution_count": 201,
     "metadata": {},
     "output_type": "execute_result"
    }
   ],
   "source": [
    "accuracy_confusion_tr(y3_train, logistic_tumor_tr_pred)"
   ]
  },
  {
   "cell_type": "code",
   "execution_count": 202,
   "metadata": {},
   "outputs": [
    {
     "data": {
      "text/plain": [
       "(1.0,\n",
       " array([[48,  0],\n",
       "        [ 0, 39]], dtype=int64))"
      ]
     },
     "execution_count": 202,
     "metadata": {},
     "output_type": "execute_result"
    }
   ],
   "source": [
    "accuracy_confusion_tr(y3_test, logistic_tumor_te_pred)"
   ]
  },
  {
   "cell_type": "markdown",
   "metadata": {},
   "source": [
    "__knn__"
   ]
  },
  {
   "cell_type": "code",
   "execution_count": 174,
   "metadata": {},
   "outputs": [
    {
     "data": {
      "text/plain": [
       "{'n_neighbors': 1}"
      ]
     },
     "execution_count": 174,
     "metadata": {},
     "output_type": "execute_result"
    }
   ],
   "source": [
    "# tune the parameters\n",
    "knn = KNeighborsClassifier()\n",
    "knn_param_grid = {\n",
    "    'n_neighbors' : list(range(1,10,1)),\n",
    "}\n",
    "\n",
    "knn_grid_search = GridSearchCV(knn, knn_param_grid, cv = 5)\n",
    "knn_grid_search.fit(X3_train, y3_train)\n",
    "knn_grid_search.best_params_"
   ]
  },
  {
   "cell_type": "code",
   "execution_count": 203,
   "metadata": {},
   "outputs": [],
   "source": [
    "start_time = process_time()\n",
    "knn_tumor = KNeighborsClassifier(n_neighbors=1)\n",
    "knn_tumor.fit(X3_train, y3_train)\n",
    "end_time = process_time()\n",
    "\n",
    "knn_tumor_tr_pred = knn_tumor.predict(X3_train)\n",
    "knn_tumor_te_pred = knn_tumor.predict(X3_test)"
   ]
  },
  {
   "cell_type": "code",
   "execution_count": 204,
   "metadata": {},
   "outputs": [
    {
     "data": {
      "text/plain": [
       "0.390625"
      ]
     },
     "execution_count": 204,
     "metadata": {},
     "output_type": "execute_result"
    }
   ],
   "source": [
    "timecost_3_knn = end_time-start_time\n",
    "timecost_3_knn"
   ]
  },
  {
   "cell_type": "code",
   "execution_count": 205,
   "metadata": {},
   "outputs": [
    {
     "data": {
      "text/plain": [
       "(1.0,\n",
       " array([[ 98,   0],\n",
       "        [  0, 102]], dtype=int64))"
      ]
     },
     "execution_count": 205,
     "metadata": {},
     "output_type": "execute_result"
    }
   ],
   "source": [
    "accuracy_confusion_tr(y3_train, knn_tumor_tr_pred)"
   ]
  },
  {
   "cell_type": "code",
   "execution_count": 206,
   "metadata": {},
   "outputs": [
    {
     "data": {
      "text/plain": [
       "(1.0,\n",
       " array([[48,  0],\n",
       "        [ 0, 39]], dtype=int64))"
      ]
     },
     "execution_count": 206,
     "metadata": {},
     "output_type": "execute_result"
    }
   ],
   "source": [
    "accuracy_confusion_tr(y3_test, knn_tumor_te_pred)"
   ]
  },
  {
   "cell_type": "markdown",
   "metadata": {},
   "source": [
    "__decision tree__"
   ]
  },
  {
   "cell_type": "code",
   "execution_count": 178,
   "metadata": {},
   "outputs": [
    {
     "data": {
      "text/plain": [
       "{'max_depth': 200, 'min_samples_leaf': 5, 'min_samples_split': 5}"
      ]
     },
     "execution_count": 178,
     "metadata": {},
     "output_type": "execute_result"
    }
   ],
   "source": [
    "# tune the parameters\n",
    "dt = DecisionTreeClassifier()\n",
    "dt_param_grid = {\n",
    "    'max_depth' : [100, 200, 300],\n",
    "    'min_samples_split':[2,5, 10],\n",
    "    'min_samples_leaf':[1, 2, 5]\n",
    "}\n",
    "\n",
    "dt_grid_search = GridSearchCV(dt, dt_param_grid, cv = 5)\n",
    "dt_grid_search.fit(X3_train, y3_train)\n",
    "dt_grid_search.best_params_"
   ]
  },
  {
   "cell_type": "code",
   "execution_count": 207,
   "metadata": {},
   "outputs": [],
   "source": [
    "start_time = process_time()\n",
    "dt_tumor = DecisionTreeClassifier(max_depth = 200, min_samples_split =5 , min_samples_leaf =5)\n",
    "dt_tumor.fit(X3_train, y3_train)\n",
    "end_time = process_time()\n",
    "\n",
    "dt_tumor_tr_pred = dt_tumor.predict(X3_train)\n",
    "dt_tumor_te_pred = dt_tumor.predict(X3_test)"
   ]
  },
  {
   "cell_type": "code",
   "execution_count": 208,
   "metadata": {},
   "outputs": [
    {
     "data": {
      "text/plain": [
       "0.421875"
      ]
     },
     "execution_count": 208,
     "metadata": {},
     "output_type": "execute_result"
    }
   ],
   "source": [
    "timecost_3_dt = end_time-start_time\n",
    "timecost_3_dt"
   ]
  },
  {
   "cell_type": "code",
   "execution_count": 209,
   "metadata": {},
   "outputs": [
    {
     "data": {
      "text/plain": [
       "(1.0,\n",
       " array([[ 98,   0],\n",
       "        [  0, 102]], dtype=int64))"
      ]
     },
     "execution_count": 209,
     "metadata": {},
     "output_type": "execute_result"
    }
   ],
   "source": [
    "accuracy_confusion_tr(y3_train, dt_tumor_tr_pred)"
   ]
  },
  {
   "cell_type": "code",
   "execution_count": 210,
   "metadata": {},
   "outputs": [
    {
     "data": {
      "text/plain": [
       "(0.9885057471264368,\n",
       " array([[48,  0],\n",
       "        [ 1, 38]], dtype=int64))"
      ]
     },
     "execution_count": 210,
     "metadata": {},
     "output_type": "execute_result"
    }
   ],
   "source": [
    "accuracy_confusion_te(y3_test, dt_tumor_te_pred)"
   ]
  },
  {
   "cell_type": "markdown",
   "metadata": {},
   "source": [
    "__random forest__"
   ]
  },
  {
   "cell_type": "code",
   "execution_count": 182,
   "metadata": {},
   "outputs": [
    {
     "data": {
      "text/plain": [
       "{'max_depth': 200, 'min_samples_leaf': 2, 'min_samples_split': 5}"
      ]
     },
     "execution_count": 182,
     "metadata": {},
     "output_type": "execute_result"
    }
   ],
   "source": [
    "# tune the parameters\n",
    "rf = RandomForestClassifier()\n",
    "rf_param_grid = {\n",
    "    'max_depth' : [100, 200],\n",
    "    'min_samples_split':[2,5,10],\n",
    "    'min_samples_leaf':[1, 2, 5]\n",
    "}\n",
    "\n",
    "rf_grid_search = GridSearchCV(rf, rf_param_grid, cv = 3)\n",
    "rf_grid_search.fit(X4_train, y4_train)\n",
    "rf_grid_search.best_params_"
   ]
  },
  {
   "cell_type": "code",
   "execution_count": 211,
   "metadata": {},
   "outputs": [],
   "source": [
    "start_time = process_time()\n",
    "rf_tumor = RandomForestClassifier(n_estimators = 500, max_depth = 200, min_samples_split =5 , min_samples_leaf =2)\n",
    "rf_tumor.fit(X3_train, y3_train)\n",
    "end_time = process_time()\n",
    "\n",
    "rf_tumor_tr_pred = rf_tumor.predict(X3_train)\n",
    "rf_tumor_te_pred = rf_tumor.predict(X3_test)"
   ]
  },
  {
   "cell_type": "code",
   "execution_count": 213,
   "metadata": {},
   "outputs": [
    {
     "data": {
      "text/plain": [
       "2.1875"
      ]
     },
     "execution_count": 213,
     "metadata": {},
     "output_type": "execute_result"
    }
   ],
   "source": [
    "timecost_3_rf = end_time-start_time\n",
    "timecost_3_rf"
   ]
  },
  {
   "cell_type": "code",
   "execution_count": 214,
   "metadata": {},
   "outputs": [
    {
     "data": {
      "text/plain": [
       "(1.0,\n",
       " array([[ 98,   0],\n",
       "        [  0, 102]], dtype=int64))"
      ]
     },
     "execution_count": 214,
     "metadata": {},
     "output_type": "execute_result"
    }
   ],
   "source": [
    "accuracy_confusion_tr(y3_train, rf_tumor_tr_pred)"
   ]
  },
  {
   "cell_type": "code",
   "execution_count": 215,
   "metadata": {},
   "outputs": [
    {
     "data": {
      "text/plain": [
       "(1.0,\n",
       " array([[48,  0],\n",
       "        [ 0, 39]], dtype=int64))"
      ]
     },
     "execution_count": 215,
     "metadata": {},
     "output_type": "execute_result"
    }
   ],
   "source": [
    "accuracy_confusion_te(y3_test, rf_tumor_te_pred)"
   ]
  },
  {
   "cell_type": "markdown",
   "metadata": {},
   "source": [
    "__svm__"
   ]
  },
  {
   "cell_type": "code",
   "execution_count": 186,
   "metadata": {},
   "outputs": [
    {
     "data": {
      "text/plain": [
       "{'C': 0.01, 'kernel': 'linear'}"
      ]
     },
     "execution_count": 186,
     "metadata": {},
     "output_type": "execute_result"
    }
   ],
   "source": [
    "# tune the parameters\n",
    "svm = SVC()\n",
    "svm_param_grid = {\n",
    "    'C' : [1e-02,0.1, 1],\n",
    "    'kernel': ['linear','sigmoid', 'rbf']\n",
    "}\n",
    "\n",
    "svm_grid_search = GridSearchCV(svm, svm_param_grid, cv = 3)\n",
    "svm_grid_search.fit(X4_train, y4_train)\n",
    "svm_grid_search.best_params_"
   ]
  },
  {
   "cell_type": "code",
   "execution_count": 216,
   "metadata": {},
   "outputs": [],
   "source": [
    "start_time = process_time()\n",
    "svm_tumor = SVC(C=0.01, kernel = 'linear', probability = True)\n",
    "svm_tumor.fit(X3_train, y3_train)\n",
    "end_time = process_time()\n",
    "\n",
    "svm_tumor_tr_pred = svm_tumor.predict(X3_train)\n",
    "svm_tumor_te_pred = svm_tumor.predict(X3_test)"
   ]
  },
  {
   "cell_type": "code",
   "execution_count": 218,
   "metadata": {},
   "outputs": [
    {
     "data": {
      "text/plain": [
       "1.859375"
      ]
     },
     "execution_count": 218,
     "metadata": {},
     "output_type": "execute_result"
    }
   ],
   "source": [
    "timecost_3_svm = end_time-start_time\n",
    "timecost_3_svm"
   ]
  },
  {
   "cell_type": "code",
   "execution_count": 219,
   "metadata": {},
   "outputs": [
    {
     "data": {
      "text/plain": [
       "(1.0,\n",
       " array([[ 98,   0],\n",
       "        [  0, 102]], dtype=int64))"
      ]
     },
     "execution_count": 219,
     "metadata": {},
     "output_type": "execute_result"
    }
   ],
   "source": [
    "accuracy_confusion_tr(y3_train, svm_tumor_tr_pred)"
   ]
  },
  {
   "cell_type": "code",
   "execution_count": 220,
   "metadata": {},
   "outputs": [
    {
     "data": {
      "text/plain": [
       "(1.0,\n",
       " array([[48,  0],\n",
       "        [ 0, 39]], dtype=int64))"
      ]
     },
     "execution_count": 220,
     "metadata": {},
     "output_type": "execute_result"
    }
   ],
   "source": [
    "accuracy_confusion_tr(y3_test, svm_tumor_te_pred)"
   ]
  },
  {
   "cell_type": "code",
   "execution_count": 221,
   "metadata": {},
   "outputs": [
    {
     "data": {
      "text/plain": [
       "Text(0.5, 1.0, 'ROC curve over different algorithms in the Tumor dataset')"
      ]
     },
     "execution_count": 221,
     "metadata": {},
     "output_type": "execute_result"
    },
    {
     "data": {
      "image/png": "[encoded data removed]",
      "text/plain": [
       "<Figure size 432x288 with 1 Axes>"
      ]
     },
     "metadata": {
      "needs_background": "light"
     },
     "output_type": "display_data"
    }
   ],
   "source": [
    "roc_curve(logistic_tumor, knn_tumor, dt_tumor, rf_tumor, svm_tumor, X3_test, y3_test)\n",
    "plt.title(\"ROC curve over different algorithms in the Tumor dataset\")"
   ]
  },
  {
   "cell_type": "code",
   "execution_count": 222,
   "metadata": {},
   "outputs": [
    {
     "data": {
      "text/plain": [
       "Text(0.5, 1.0, 'PR curve over different algorithms in the Tumor dataset')"
      ]
     },
     "execution_count": 222,
     "metadata": {},
     "output_type": "execute_result"
    },
    {
     "data": {
      "image/png": "[encoded data removed]",
      "text/plain": [
       "<Figure size 432x288 with 1 Axes>"
      ]
     },
     "metadata": {
      "needs_background": "light"
     },
     "output_type": "display_data"
    }
   ],
   "source": [
    "pr_curve(logistic_tumor, knn_tumor, dt_tumor, rf_tumor, svm_tumor, X3_test, y3_test)\n",
    "plt.title(\"PR curve over different algorithms in the Tumor dataset\")"
   ]
  },
  {
   "cell_type": "markdown",
   "metadata": {},
   "source": [
    "__n large d large dataset: Gisette__"
   ]
  },
  {
   "cell_type": "markdown",
   "metadata": {},
   "source": [
    "__logistic regression__"
   ]
  },
  {
   "cell_type": "code",
   "execution_count": 223,
   "metadata": {},
   "outputs": [],
   "source": [
    "start_time = process_time()\n",
    "logistic_gisette = LogisticRegression()\n",
    "logistic_gisette.fit(X7_train, y7_train)\n",
    "end_time = process_time()\n",
    "\n",
    "logistic_gisette_tr_pred = logistic_gisette.predict(X7_train)\n",
    "logistic_gisette_te_pred = logistic_gisette.predict(X7_test)"
   ]
  },
  {
   "cell_type": "code",
   "execution_count": 224,
   "metadata": {},
   "outputs": [
    {
     "data": {
      "text/plain": [
       "7.015625"
      ]
     },
     "execution_count": 224,
     "metadata": {},
     "output_type": "execute_result"
    }
   ],
   "source": [
    "timecost_7_logistic = end_time-start_time\n",
    "timecost_7_logistic"
   ]
  },
  {
   "cell_type": "code",
   "execution_count": 225,
   "metadata": {},
   "outputs": [
    {
     "data": {
      "text/plain": [
       "(1.0,\n",
       " array([[3000,    0],\n",
       "        [   0, 3000]], dtype=int64))"
      ]
     },
     "execution_count": 225,
     "metadata": {},
     "output_type": "execute_result"
    }
   ],
   "source": [
    "accuracy_confusion_tr(y7_train, logistic_gisette_tr_pred)"
   ]
  },
  {
   "cell_type": "code",
   "execution_count": 226,
   "metadata": {},
   "outputs": [
    {
     "data": {
      "text/plain": [
       "(0.981,\n",
       " array([[491,   9],\n",
       "        [ 10, 490]], dtype=int64))"
      ]
     },
     "execution_count": 226,
     "metadata": {},
     "output_type": "execute_result"
    }
   ],
   "source": [
    "accuracy_confusion_tr(y7_test, logistic_gisette_te_pred)"
   ]
  },
  {
   "cell_type": "markdown",
   "metadata": {},
   "source": [
    "__knn__"
   ]
  },
  {
   "cell_type": "code",
   "execution_count": 195,
   "metadata": {},
   "outputs": [
    {
     "data": {
      "text/plain": [
       "{'n_neighbors': 3}"
      ]
     },
     "execution_count": 195,
     "metadata": {},
     "output_type": "execute_result"
    }
   ],
   "source": [
    "# tune the parameters\n",
    "knn = KNeighborsClassifier()\n",
    "knn_param_grid = {\n",
    "    'n_neighbors' : list(range(1,5,1)),\n",
    "}\n",
    "\n",
    "knn_grid_search = GridSearchCV(knn, knn_param_grid, cv = 3)\n",
    "knn_grid_search.fit(X7_train, y7_train)\n",
    "knn_grid_search.best_params_"
   ]
  },
  {
   "cell_type": "code",
   "execution_count": 227,
   "metadata": {},
   "outputs": [],
   "source": [
    "start_time = process_time()\n",
    "knn_gisette = KNeighborsClassifier(n_neighbors=3)\n",
    "knn_gisette.fit(X7_train, y7_train)\n",
    "end_time = process_time()\n",
    "\n",
    "knn_gisette_tr_pred = knn_gisette.predict(X7_train)\n",
    "knn_gisette_te_pred = knn_gisette.predict(X7_test)"
   ]
  },
  {
   "cell_type": "code",
   "execution_count": 228,
   "metadata": {},
   "outputs": [
    {
     "data": {
      "text/plain": [
       "9.171875"
      ]
     },
     "execution_count": 228,
     "metadata": {},
     "output_type": "execute_result"
    }
   ],
   "source": [
    "timecost_7_knn = end_time-start_time\n",
    "timecost_7_knn"
   ]
  },
  {
   "cell_type": "code",
   "execution_count": 229,
   "metadata": {},
   "outputs": [
    {
     "data": {
      "text/plain": [
       "(0.9776666666666667,\n",
       " array([[2941,   59],\n",
       "        [  75, 2925]], dtype=int64))"
      ]
     },
     "execution_count": 229,
     "metadata": {},
     "output_type": "execute_result"
    }
   ],
   "source": [
    "accuracy_confusion_tr(y7_train, knn_gisette_tr_pred)"
   ]
  },
  {
   "cell_type": "code",
   "execution_count": 230,
   "metadata": {},
   "outputs": [
    {
     "data": {
      "text/plain": [
       "(0.949,\n",
       " array([[480,  20],\n",
       "        [ 31, 469]], dtype=int64))"
      ]
     },
     "execution_count": 230,
     "metadata": {},
     "output_type": "execute_result"
    }
   ],
   "source": [
    "accuracy_confusion_tr(y7_test, knn_gisette_te_pred)"
   ]
  },
  {
   "cell_type": "markdown",
   "metadata": {},
   "source": [
    "__decision tree__"
   ]
  },
  {
   "cell_type": "code",
   "execution_count": 199,
   "metadata": {},
   "outputs": [
    {
     "data": {
      "text/plain": [
       "{'max_depth': 200, 'min_samples_leaf': 5, 'min_samples_split': 10}"
      ]
     },
     "execution_count": 199,
     "metadata": {},
     "output_type": "execute_result"
    }
   ],
   "source": [
    "# tune the parameters\n",
    "dt = DecisionTreeClassifier()\n",
    "dt_param_grid = {\n",
    "    'max_depth' : [100, 200, 300],\n",
    "    'min_samples_split':[2,5, 10],\n",
    "    'min_samples_leaf':[1, 2, 5]\n",
    "}\n",
    "\n",
    "dt_grid_search = GridSearchCV(dt, dt_param_grid, cv = 3)\n",
    "dt_grid_search.fit(X7_train, y7_train)\n",
    "dt_grid_search.best_params_"
   ]
  },
  {
   "cell_type": "code",
   "execution_count": 233,
   "metadata": {},
   "outputs": [],
   "source": [
    "start_time = process_time()\n",
    "dt_gisette = DecisionTreeClassifier(max_depth = 200, min_samples_split =5 , min_samples_leaf =10)\n",
    "dt_gisette.fit(X7_train, y7_train)\n",
    "end_time = process_time()\n",
    "\n",
    "dt_gisette_tr_pred = dt_gisette.predict(X7_train)\n",
    "dt_gisette_te_pred = dt_gisette.predict(X7_test)"
   ]
  },
  {
   "cell_type": "code",
   "execution_count": 234,
   "metadata": {},
   "outputs": [
    {
     "data": {
      "text/plain": [
       "12.4375"
      ]
     },
     "execution_count": 234,
     "metadata": {},
     "output_type": "execute_result"
    }
   ],
   "source": [
    "timecost_7_dt = end_time-start_time\n",
    "timecost_7_dt"
   ]
  },
  {
   "cell_type": "code",
   "execution_count": 235,
   "metadata": {},
   "outputs": [
    {
     "data": {
      "text/plain": [
       "(0.9668333333333333,\n",
       " array([[2915,   85],\n",
       "        [ 114, 2886]], dtype=int64))"
      ]
     },
     "execution_count": 235,
     "metadata": {},
     "output_type": "execute_result"
    }
   ],
   "source": [
    "accuracy_confusion_tr(y7_train, dt_gisette_tr_pred)"
   ]
  },
  {
   "cell_type": "code",
   "execution_count": 236,
   "metadata": {},
   "outputs": [
    {
     "data": {
      "text/plain": [
       "(0.93,\n",
       " array([[472,  28],\n",
       "        [ 42, 458]], dtype=int64))"
      ]
     },
     "execution_count": 236,
     "metadata": {},
     "output_type": "execute_result"
    }
   ],
   "source": [
    "accuracy_confusion_te(y7_test, dt_gisette_te_pred)"
   ]
  },
  {
   "cell_type": "markdown",
   "metadata": {},
   "source": [
    "__random forest__"
   ]
  },
  {
   "cell_type": "code",
   "execution_count": 203,
   "metadata": {},
   "outputs": [
    {
     "data": {
      "text/plain": [
       "{'max_depth': 100, 'min_samples_leaf': 2, 'min_samples_split': 5}"
      ]
     },
     "execution_count": 203,
     "metadata": {},
     "output_type": "execute_result"
    }
   ],
   "source": [
    "# tune the parameters\n",
    "rf = RandomForestClassifier()\n",
    "rf_param_grid = {\n",
    "    'max_depth' : [100, 200],\n",
    "    'min_samples_split':[5,10],\n",
    "    'min_samples_leaf':[2, 5]\n",
    "}\n",
    "\n",
    "rf_grid_search = GridSearchCV(rf, rf_param_grid, cv = 3)\n",
    "rf_grid_search.fit(X7_train, y7_train)\n",
    "rf_grid_search.best_params_"
   ]
  },
  {
   "cell_type": "code",
   "execution_count": 237,
   "metadata": {},
   "outputs": [],
   "source": [
    "start_time = process_time()\n",
    "rf_gisette = RandomForestClassifier(max_depth = 100, min_samples_split =5 , min_samples_leaf =2)\n",
    "rf_gisette.fit(X7_train, y7_train)\n",
    "end_time = process_time()\n",
    "\n",
    "rf_gisette_tr_pred = rf_gisette.predict(X7_train)\n",
    "rf_gisette_te_pred = rf_gisette.predict(X7_test)"
   ]
  },
  {
   "cell_type": "code",
   "execution_count": 238,
   "metadata": {},
   "outputs": [
    {
     "data": {
      "text/plain": [
       "11.875"
      ]
     },
     "execution_count": 238,
     "metadata": {},
     "output_type": "execute_result"
    }
   ],
   "source": [
    "timecost_7_rf = end_time-start_time\n",
    "timecost_7_rf"
   ]
  },
  {
   "cell_type": "code",
   "execution_count": 239,
   "metadata": {},
   "outputs": [
    {
     "data": {
      "text/plain": [
       "(0.998,\n",
       " array([[2994,    6],\n",
       "        [   6, 2994]], dtype=int64))"
      ]
     },
     "execution_count": 239,
     "metadata": {},
     "output_type": "execute_result"
    }
   ],
   "source": [
    "accuracy_confusion_tr(y7_train, rf_gisette_tr_pred)"
   ]
  },
  {
   "cell_type": "code",
   "execution_count": 240,
   "metadata": {},
   "outputs": [
    {
     "data": {
      "text/plain": [
       "(0.97,\n",
       " array([[489,  11],\n",
       "        [ 19, 481]], dtype=int64))"
      ]
     },
     "execution_count": 240,
     "metadata": {},
     "output_type": "execute_result"
    }
   ],
   "source": [
    "accuracy_confusion_te(y7_test, rf_gisette_te_pred)"
   ]
  },
  {
   "cell_type": "markdown",
   "metadata": {},
   "source": [
    "__svm__"
   ]
  },
  {
   "cell_type": "code",
   "execution_count": 207,
   "metadata": {},
   "outputs": [
    {
     "data": {
      "text/plain": [
       "{'C': 1, 'kernel': 'sigmoid'}"
      ]
     },
     "execution_count": 207,
     "metadata": {},
     "output_type": "execute_result"
    }
   ],
   "source": [
    "# tune the parameters\n",
    "svm = SVC()\n",
    "svm_param_grid = {\n",
    "    'C' : [1e-02,0.1, 1],\n",
    "    'kernel': ['linear','sigmoid', 'rbf']\n",
    "}\n",
    "\n",
    "svm_grid_search = GridSearchCV(svm, svm_param_grid, cv = 3)\n",
    "svm_grid_search.fit(X7_train, y7_train)\n",
    "svm_grid_search.best_params_"
   ]
  },
  {
   "cell_type": "code",
   "execution_count": 241,
   "metadata": {},
   "outputs": [],
   "source": [
    "start_time = process_time()\n",
    "svm_gisette = SVC(C= 1, kernel = 'sigmoid', probability = True)\n",
    "svm_gisette.fit(X7_train, y7_train)\n",
    "end_time = process_time()\n",
    "\n",
    "svm_gisette_tr_pred = svm_gisette.predict(X7_train)\n",
    "svm_gisette_te_pred = svm_gisette.predict(X7_test)"
   ]
  },
  {
   "cell_type": "code",
   "execution_count": 242,
   "metadata": {},
   "outputs": [
    {
     "data": {
      "text/plain": [
       "344.390625"
      ]
     },
     "execution_count": 242,
     "metadata": {},
     "output_type": "execute_result"
    }
   ],
   "source": [
    "timecost_7_svm = end_time-start_time\n",
    "timecost_7_svm"
   ]
  },
  {
   "cell_type": "code",
   "execution_count": 243,
   "metadata": {},
   "outputs": [
    {
     "data": {
      "text/plain": [
       "(0.9865,\n",
       " array([[2964,   36],\n",
       "        [  45, 2955]], dtype=int64))"
      ]
     },
     "execution_count": 243,
     "metadata": {},
     "output_type": "execute_result"
    }
   ],
   "source": [
    "accuracy_confusion_tr(y7_train, svm_gisette_tr_pred)"
   ]
  },
  {
   "cell_type": "code",
   "execution_count": 244,
   "metadata": {},
   "outputs": [
    {
     "data": {
      "text/plain": [
       "(0.978,\n",
       " array([[488,  12],\n",
       "        [ 10, 490]], dtype=int64))"
      ]
     },
     "execution_count": 244,
     "metadata": {},
     "output_type": "execute_result"
    }
   ],
   "source": [
    "accuracy_confusion_tr(y7_test, svm_gisette_te_pred)"
   ]
  },
  {
   "cell_type": "code",
   "execution_count": 245,
   "metadata": {},
   "outputs": [
    {
     "data": {
      "text/plain": [
       "Text(0.5, 1.0, 'ROC curve over different algorithms in the Gisette dataset')"
      ]
     },
     "execution_count": 245,
     "metadata": {},
     "output_type": "execute_result"
    },
    {
     "data": {
      "image/png": "[encoded data removed]",
      "text/plain": [
       "<Figure size 432x288 with 1 Axes>"
      ]
     },
     "metadata": {
      "needs_background": "light"
     },
     "output_type": "display_data"
    }
   ],
   "source": [
    "roc_curve(logistic_gisette, knn_gisette, dt_gisette, rf_gisette, svm_gisette, X7_test, y7_test)\n",
    "plt.title(\"ROC curve over different algorithms in the Gisette dataset\")"
   ]
  },
  {
   "cell_type": "code",
   "execution_count": 246,
   "metadata": {},
   "outputs": [
    {
     "data": {
      "text/plain": [
       "Text(0.5, 1.0, 'PR curve over different algorithms in the Gisette dataset')"
      ]
     },
     "execution_count": 246,
     "metadata": {},
     "output_type": "execute_result"
    },
    {
     "data": {
      "image/png": "[encoded data removed]",
      "text/plain": [
       "<Figure size 432x288 with 1 Axes>"
      ]
     },
     "metadata": {
      "needs_background": "light"
     },
     "output_type": "display_data"
    }
   ],
   "source": [
    "pr_curve(logistic_gisette, knn_gisette, dt_gisette, rf_gisette, svm_gisette, X7_test, y7_test)\n",
    "plt.title(\"PR curve over different algorithms in the Gisette dataset\")"
   ]
  },
  {
   "cell_type": "markdown",
   "metadata": {},
   "source": [
    "__n large d large dataset: Protein__"
   ]
  },
  {
   "cell_type": "markdown",
   "metadata": {},
   "source": [
    "__logistic regression__"
   ]
  },
  {
   "cell_type": "code",
   "execution_count": 247,
   "metadata": {},
   "outputs": [
    {
     "name": "stderr",
     "output_type": "stream",
     "text": [
      "D:\\Anaconda\\lib\\site-packages\\sklearn\\linear_model\\_logistic.py:940: ConvergenceWarning: lbfgs failed to converge (status=1):\n",
      "STOP: TOTAL NO. of ITERATIONS REACHED LIMIT.\n",
      "\n",
      "Increase the number of iterations (max_iter) or scale the data as shown in:\n",
      "    https://scikit-learn.org/stable/modules/preprocessing.html\n",
      "Please also refer to the documentation for alternative solver options:\n",
      "    https://scikit-learn.org/stable/modules/linear_model.html#logistic-regression\n",
      "  extra_warning_msg=_LOGISTIC_SOLVER_CONVERGENCE_MSG)\n"
     ]
    }
   ],
   "source": [
    "start_time = process_time()\n",
    "logistic_protein = LogisticRegression()\n",
    "logistic_protein.fit(X8_train, y8_train)\n",
    "end_time = process_time()\n",
    "\n",
    "logistic_protein_tr_pred = logistic_protein.predict(X8_train)\n",
    "logistic_protein_te_pred = logistic_protein.predict(X8_test)"
   ]
  },
  {
   "cell_type": "code",
   "execution_count": 248,
   "metadata": {},
   "outputs": [
    {
     "data": {
      "text/plain": [
       "34.25"
      ]
     },
     "execution_count": 248,
     "metadata": {},
     "output_type": "execute_result"
    }
   ],
   "source": [
    "timecost_8_logistic = end_time-start_time\n",
    "timecost_8_logistic"
   ]
  },
  {
   "cell_type": "code",
   "execution_count": 249,
   "metadata": {},
   "outputs": [
    {
     "data": {
      "text/plain": [
       "(1.0,\n",
       " array([[11495,     0],\n",
       "        [    0, 11533]], dtype=int64))"
      ]
     },
     "execution_count": 249,
     "metadata": {},
     "output_type": "execute_result"
    }
   ],
   "source": [
    "accuracy_confusion_tr(y8_train, logistic_protein_tr_pred)"
   ]
  },
  {
   "cell_type": "code",
   "execution_count": 250,
   "metadata": {},
   "outputs": [
    {
     "data": {
      "text/plain": [
       "(0.9961499493414387,\n",
       " array([[4916,   38],\n",
       "        [   0, 4916]], dtype=int64))"
      ]
     },
     "execution_count": 250,
     "metadata": {},
     "output_type": "execute_result"
    }
   ],
   "source": [
    "accuracy_confusion_tr(y8_test, logistic_protein_te_pred)"
   ]
  },
  {
   "cell_type": "markdown",
   "metadata": {},
   "source": [
    "__knn__"
   ]
  },
  {
   "cell_type": "code",
   "execution_count": 16,
   "metadata": {},
   "outputs": [
    {
     "data": {
      "text/plain": [
       "{'n_neighbors': 1}"
      ]
     },
     "execution_count": 16,
     "metadata": {},
     "output_type": "execute_result"
    }
   ],
   "source": [
    "# tune the parameters\n",
    "knn = KNeighborsClassifier()\n",
    "knn_param_grid = {\n",
    "    'n_neighbors' :[1, 5, 10, 50, 100]\n",
    "}\n",
    "\n",
    "knn_grid_search = GridSearchCV(knn, knn_param_grid, cv = 3)\n",
    "knn_grid_search.fit(X8_train, y8_train)\n",
    "knn_grid_search.best_params_"
   ]
  },
  {
   "cell_type": "code",
   "execution_count": 251,
   "metadata": {},
   "outputs": [],
   "source": [
    "start_time = process_time()\n",
    "knn_protein = KNeighborsClassifier(n_neighbors=1)\n",
    "knn_protein.fit(X8_train, y8_train)\n",
    "end_time = process_time()\n",
    "\n",
    "knn_protein_tr_pred = knn_protein.predict(X8_train)\n",
    "knn_protein_te_pred = knn_protein.predict(X8_test)"
   ]
  },
  {
   "cell_type": "code",
   "execution_count": 252,
   "metadata": {},
   "outputs": [
    {
     "data": {
      "text/plain": [
       "56.65625"
      ]
     },
     "execution_count": 252,
     "metadata": {},
     "output_type": "execute_result"
    }
   ],
   "source": [
    "timecost_8_knn = end_time-start_time\n",
    "timecost_8_knn"
   ]
  },
  {
   "cell_type": "code",
   "execution_count": 253,
   "metadata": {},
   "outputs": [
    {
     "data": {
      "text/plain": [
       "(1.0,\n",
       " array([[11495,     0],\n",
       "        [    0, 11533]], dtype=int64))"
      ]
     },
     "execution_count": 253,
     "metadata": {},
     "output_type": "execute_result"
    }
   ],
   "source": [
    "accuracy_confusion_tr(y8_train, knn_protein_tr_pred)"
   ]
  },
  {
   "cell_type": "code",
   "execution_count": 254,
   "metadata": {},
   "outputs": [
    {
     "data": {
      "text/plain": [
       "(0.9954407294832827,\n",
       " array([[4909,   45],\n",
       "        [   0, 4916]], dtype=int64))"
      ]
     },
     "execution_count": 254,
     "metadata": {},
     "output_type": "execute_result"
    }
   ],
   "source": [
    "accuracy_confusion_tr(y8_test, knn_protein_te_pred)"
   ]
  },
  {
   "cell_type": "markdown",
   "metadata": {},
   "source": [
    "__decision tree__"
   ]
  },
  {
   "cell_type": "code",
   "execution_count": 20,
   "metadata": {},
   "outputs": [
    {
     "data": {
      "text/plain": [
       "{'max_depth': 100, 'min_samples_leaf': 2, 'min_samples_split': 5}"
      ]
     },
     "execution_count": 20,
     "metadata": {},
     "output_type": "execute_result"
    }
   ],
   "source": [
    "# tune the parameters\n",
    "dt = DecisionTreeClassifier()\n",
    "dt_param_grid = {\n",
    "    'max_depth' : [100, 200],\n",
    "    'min_samples_split':[2,5],\n",
    "    'min_samples_leaf':[2, 5]\n",
    "}\n",
    "\n",
    "dt_grid_search = GridSearchCV(dt, dt_param_grid, cv = 3)\n",
    "dt_grid_search.fit(X8_train, y8_train)\n",
    "dt_grid_search.best_params_"
   ]
  },
  {
   "cell_type": "code",
   "execution_count": 255,
   "metadata": {},
   "outputs": [],
   "source": [
    "start_time = process_time()\n",
    "dt_protein = DecisionTreeClassifier(max_depth = 100, min_samples_split =5 , min_samples_leaf =2)\n",
    "dt_protein.fit(X8_train, y8_train)\n",
    "end_time = process_time()\n",
    "\n",
    "dt_protein_tr_pred = dt_protein.predict(X8_train)\n",
    "dt_protein_te_pred = dt_protein.predict(X8_test)"
   ]
  },
  {
   "cell_type": "code",
   "execution_count": 256,
   "metadata": {},
   "outputs": [
    {
     "data": {
      "text/plain": [
       "233.96875"
      ]
     },
     "execution_count": 256,
     "metadata": {},
     "output_type": "execute_result"
    }
   ],
   "source": [
    "timecost_8_dt = end_time-start_time\n",
    "timecost_8_dt"
   ]
  },
  {
   "cell_type": "code",
   "execution_count": 257,
   "metadata": {},
   "outputs": [
    {
     "data": {
      "text/plain": [
       "(0.9994354698627758,\n",
       " array([[11494,     1],\n",
       "        [   12, 11521]], dtype=int64))"
      ]
     },
     "execution_count": 257,
     "metadata": {},
     "output_type": "execute_result"
    }
   ],
   "source": [
    "accuracy_confusion_tr(y8_train, dt_protein_tr_pred)"
   ]
  },
  {
   "cell_type": "code",
   "execution_count": 258,
   "metadata": {},
   "outputs": [
    {
     "data": {
      "text/plain": [
       "(0.992806484295846,\n",
       " array([[4900,   54],\n",
       "        [  17, 4899]], dtype=int64))"
      ]
     },
     "execution_count": 258,
     "metadata": {},
     "output_type": "execute_result"
    }
   ],
   "source": [
    "accuracy_confusion_te(y8_test, dt_protein_te_pred)"
   ]
  },
  {
   "cell_type": "markdown",
   "metadata": {},
   "source": [
    "__random forest__"
   ]
  },
  {
   "cell_type": "code",
   "execution_count": 24,
   "metadata": {},
   "outputs": [
    {
     "data": {
      "text/plain": [
       "{'max_depth': 100, 'min_samples_leaf': 2, 'min_samples_split': 2}"
      ]
     },
     "execution_count": 24,
     "metadata": {},
     "output_type": "execute_result"
    }
   ],
   "source": [
    "# tune the parameters\n",
    "rf = RandomForestClassifier()\n",
    "rf_param_grid = {\n",
    "    'max_depth' : [100, 200],\n",
    "    'min_samples_split':[2,5],\n",
    "    'min_samples_leaf':[2, 5]\n",
    "}\n",
    "\n",
    "rf_grid_search = GridSearchCV(rf, rf_param_grid, cv = 3)\n",
    "rf_grid_search.fit(X8_train, y8_train)\n",
    "rf_grid_search.best_params_"
   ]
  },
  {
   "cell_type": "code",
   "execution_count": 259,
   "metadata": {},
   "outputs": [],
   "source": [
    "start_time = process_time()\n",
    "rf_protein = RandomForestClassifier(n_estimators = 500, max_depth = 100, min_samples_split =2 , min_samples_leaf =2)\n",
    "rf_protein.fit(X8_train, y8_train)\n",
    "end_time = process_time()\n",
    "\n",
    "rf_protein_tr_pred = rf_protein.predict(X8_train)\n",
    "rf_protein_te_pred = rf_protein.predict(X8_test)"
   ]
  },
  {
   "cell_type": "code",
   "execution_count": 260,
   "metadata": {},
   "outputs": [
    {
     "data": {
      "text/plain": [
       "1134.671875"
      ]
     },
     "execution_count": 260,
     "metadata": {},
     "output_type": "execute_result"
    }
   ],
   "source": [
    "timecost_8_rf = end_time-start_time\n",
    "timecost_8_rf"
   ]
  },
  {
   "cell_type": "code",
   "execution_count": 261,
   "metadata": {},
   "outputs": [
    {
     "data": {
      "text/plain": [
       "(0.9996525968386313,\n",
       " array([[11487,     8],\n",
       "        [    0, 11533]], dtype=int64))"
      ]
     },
     "execution_count": 261,
     "metadata": {},
     "output_type": "execute_result"
    }
   ],
   "source": [
    "accuracy_confusion_tr(y8_train, rf_protein_tr_pred)"
   ]
  },
  {
   "cell_type": "code",
   "execution_count": 262,
   "metadata": {},
   "outputs": [
    {
     "data": {
      "text/plain": [
       "(0.9982776089159068,\n",
       " array([[4937,   17],\n",
       "        [   0, 4916]], dtype=int64))"
      ]
     },
     "execution_count": 262,
     "metadata": {},
     "output_type": "execute_result"
    }
   ],
   "source": [
    "accuracy_confusion_te(y8_test, rf_protein_te_pred)"
   ]
  },
  {
   "cell_type": "markdown",
   "metadata": {},
   "source": [
    "__svm__"
   ]
  },
  {
   "cell_type": "code",
   "execution_count": 29,
   "metadata": {},
   "outputs": [
    {
     "data": {
      "text/plain": [
       "{'C': 1, 'kernel': 'rbf'}"
      ]
     },
     "execution_count": 29,
     "metadata": {},
     "output_type": "execute_result"
    }
   ],
   "source": [
    "# tune the parameters\n",
    "svm = SVC()\n",
    "svm_param_grid = {\n",
    "    'C' : [1e-02,0.1, 1],\n",
    "    'kernel': ['linear', 'sigmoid', 'rbf']\n",
    "}\n",
    "\n",
    "svm_grid_search = GridSearchCV(svm, svm_param_grid, cv = 3)\n",
    "svm_grid_search.fit(X8_train, y8_train)\n",
    "svm_grid_search.best_params_"
   ]
  },
  {
   "cell_type": "code",
   "execution_count": 263,
   "metadata": {},
   "outputs": [],
   "source": [
    "start_time = process_time()\n",
    "svm_protein = SVC(C = 1, kernel = 'rbf', probability = True)\n",
    "svm_protein.fit(X8_train, y8_train)\n",
    "end_time = process_time()\n",
    "\n",
    "svm_protein_tr_pred = svm_protein.predict(X8_train)\n",
    "svm_protein_te_pred = svm_protein.predict(X8_test)"
   ]
  },
  {
   "cell_type": "code",
   "execution_count": 264,
   "metadata": {},
   "outputs": [
    {
     "data": {
      "text/plain": [
       "1750.21875"
      ]
     },
     "execution_count": 264,
     "metadata": {},
     "output_type": "execute_result"
    }
   ],
   "source": [
    "timecost_8_svm = end_time-start_time\n",
    "timecost_8_svm"
   ]
  },
  {
   "cell_type": "code",
   "execution_count": 265,
   "metadata": {},
   "outputs": [
    {
     "data": {
      "text/plain": [
       "(0.9987840889352093,\n",
       " array([[11467,    28],\n",
       "        [    0, 11533]], dtype=int64))"
      ]
     },
     "execution_count": 265,
     "metadata": {},
     "output_type": "execute_result"
    }
   ],
   "source": [
    "accuracy_confusion_tr(y8_train, svm_protein_tr_pred)"
   ]
  },
  {
   "cell_type": "code",
   "execution_count": 266,
   "metadata": {},
   "outputs": [
    {
     "data": {
      "text/plain": [
       "(0.9973657548125633,\n",
       " array([[4928,   26],\n",
       "        [   0, 4916]], dtype=int64))"
      ]
     },
     "execution_count": 266,
     "metadata": {},
     "output_type": "execute_result"
    }
   ],
   "source": [
    "accuracy_confusion_tr(y8_test, svm_protein_te_pred)"
   ]
  },
  {
   "cell_type": "code",
   "execution_count": 267,
   "metadata": {},
   "outputs": [
    {
     "data": {
      "text/plain": [
       "Text(0.5, 1.0, 'ROC curve over different algorithms in the Protein dataset')"
      ]
     },
     "execution_count": 267,
     "metadata": {},
     "output_type": "execute_result"
    },
    {
     "data": {
      "image/png": "[encoded data removed]",
      "text/plain": [
       "<Figure size 432x288 with 1 Axes>"
      ]
     },
     "metadata": {
      "needs_background": "light"
     },
     "output_type": "display_data"
    }
   ],
   "source": [
    "roc_curve(logistic_protein, knn_protein, dt_protein, rf_protein, svm_protein, X8_test, y8_test)\n",
    "plt.title(\"ROC curve over different algorithms in the Protein dataset\")"
   ]
  },
  {
   "cell_type": "code",
   "execution_count": 268,
   "metadata": {},
   "outputs": [
    {
     "data": {
      "text/plain": [
       "Text(0.5, 1.0, 'PR curve over different algorithms in the Protein dataset')"
      ]
     },
     "execution_count": 268,
     "metadata": {},
     "output_type": "execute_result"
    },
    {
     "data": {
      "image/png": "[encoded data removed]",
      "text/plain": [
       "<Figure size 432x288 with 1 Axes>"
      ]
     },
     "metadata": {
      "needs_background": "light"
     },
     "output_type": "display_data"
    }
   ],
   "source": [
    "pr_curve(logistic_protein, knn_protein, dt_protein, rf_protein, svm_protein, X8_test, y8_test)\n",
    "plt.title(\"PR curve over different algorithms in the Protein dataset\")"
   ]
  },
  {
   "cell_type": "code",
   "execution_count": null,
   "metadata": {},
   "outputs": [],
   "source": []
  }
 ],
 "metadata": {
  "kernelspec": {
   "display_name": "Python 3",
   "language": "python",
   "name": "python3"
  },
  "language_info": {
   "codemirror_mode": {
    "name": "ipython",
    "version": 3
   },
   "file_extension": ".py",
   "mimetype": "text/x-python",
   "name": "python",
   "nbconvert_exporter": "python",
   "pygments_lexer": "ipython3",
   "version": "3.7.6"
  }
 },
 "nbformat": 4,
 "nbformat_minor": 4
}
